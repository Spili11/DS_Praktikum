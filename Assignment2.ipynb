{
  "nbformat": 4,
  "nbformat_minor": 0,
  "metadata": {
    "colab": {
      "name": "Assignment2.ipynb",
      "provenance": [],
      "collapsed_sections": [],
      "mount_file_id": "1xylRhnDYtcbspWLW2IExVHBMHZU3y8S7",
      "authorship_tag": "ABX9TyPUqS1JjUV017o6iH5Otmn6",
      "include_colab_link": true
    },
    "kernelspec": {
      "name": "python3",
      "display_name": "Python 3"
    }
  },
  "cells": [
    {
      "cell_type": "markdown",
      "metadata": {
        "id": "view-in-github",
        "colab_type": "text"
      },
      "source": [
        "<a href=\"https://colab.research.google.com/github/Spili11/DS_Praktikum/blob/main/Assignment2.ipynb\" target=\"_parent\"><img src=\"https://colab.research.google.com/assets/colab-badge.svg\" alt=\"Open In Colab\"/></a>"
      ]
    },
    {
      "cell_type": "markdown",
      "metadata": {
        "id": "gEfdf2BUIaoI"
      },
      "source": [
        "Kája Trachtová, Michaela Kecskéková, Martin Špilar\n",
        "\n"
      ]
    },
    {
      "cell_type": "code",
      "metadata": {
        "id": "zj7U8as1xo3Z"
      },
      "source": [
        "import pandas as pd\n",
        "import numpy as np\n",
        "import matplotlib.pyplot as plt\n",
        "import seaborn as sns\n",
        "\n",
        "import tensorflow as tf\n",
        "from tensorflow import keras\n",
        "from tensorflow.keras import layers\n",
        "from tensorflow.keras.layers.experimental import preprocessing"
      ],
      "execution_count": 1,
      "outputs": []
    },
    {
      "cell_type": "code",
      "metadata": {
        "id": "jS18E5-SyKMR",
        "outputId": "2f97395b-198f-4676-f0ea-91d1dbf07bcc",
        "colab": {
          "base_uri": "https://localhost:8080/",
          "height": 202
        }
      },
      "source": [
        "penguins_raw = pd.read_csv('/content/drive/My Drive/DS_Praktikum/penguins_size.csv', na_values='NA', skipinitialspace=True)\n",
        "print(penguins_raw.tail())\n",
        "print(penguins_raw.columns)"
      ],
      "execution_count": 2,
      "outputs": [
        {
          "output_type": "stream",
          "text": [
            "    species  island  culmen_length_mm  ...  flipper_length_mm  body_mass_g     sex\n",
            "339  Gentoo  Biscoe               NaN  ...                NaN          NaN     NaN\n",
            "340  Gentoo  Biscoe              46.8  ...              215.0       4850.0  FEMALE\n",
            "341  Gentoo  Biscoe              50.4  ...              222.0       5750.0    MALE\n",
            "342  Gentoo  Biscoe              45.2  ...              212.0       5200.0  FEMALE\n",
            "343  Gentoo  Biscoe              49.9  ...              213.0       5400.0    MALE\n",
            "\n",
            "[5 rows x 7 columns]\n",
            "Index(['species', 'island', 'culmen_length_mm', 'culmen_depth_mm',\n",
            "       'flipper_length_mm', 'body_mass_g', 'sex'],\n",
            "      dtype='object')\n"
          ],
          "name": "stdout"
        }
      ]
    },
    {
      "cell_type": "code",
      "metadata": {
        "id": "P5V-3Jje0FRr"
      },
      "source": [
        "label = 'sex'\n",
        "features = ['culmen_length_mm', 'culmen_depth_mm', 'flipper_length_mm', 'body_mass_g']\n",
        "penguins = penguins_raw.copy()[[label] + features]"
      ],
      "execution_count": 3,
      "outputs": []
    },
    {
      "cell_type": "code",
      "metadata": {
        "id": "rRVUpuI603T3",
        "outputId": "3c0c7806-f927-4781-a7f8-33fb0a9f9535",
        "colab": {
          "base_uri": "https://localhost:8080/",
          "height": 202
        }
      },
      "source": [
        "#unique values\n",
        "print(penguins.sex.drop_duplicates())\n",
        "#NaN values\n",
        "print(penguins.isna().sum())\n",
        "#delete observations with NaN sex and observation with '.' value\n",
        "penguins = penguins.loc[penguins.sex.isin(['FEMALE', 'MALE']), :]"
      ],
      "execution_count": 4,
      "outputs": [
        {
          "output_type": "stream",
          "text": [
            "0        MALE\n",
            "1      FEMALE\n",
            "3         NaN\n",
            "336         .\n",
            "Name: sex, dtype: object\n",
            "sex                  10\n",
            "culmen_length_mm      2\n",
            "culmen_depth_mm       2\n",
            "flipper_length_mm     2\n",
            "body_mass_g           2\n",
            "dtype: int64\n"
          ],
          "name": "stdout"
        }
      ]
    },
    {
      "cell_type": "code",
      "metadata": {
        "id": "dimrxwix18zg"
      },
      "source": [
        "#factorize label, male := 0\n",
        "penguins['sex'] = pd.factorize(penguins['sex'])[0]"
      ],
      "execution_count": 5,
      "outputs": []
    },
    {
      "cell_type": "code",
      "metadata": {
        "id": "gAzIslLP2lGW",
        "outputId": "fbae1a60-f813-4a22-b109-43125535edda",
        "colab": {
          "base_uri": "https://localhost:8080/",
          "height": 482
        }
      },
      "source": [
        "#basic exploratory analysis with boxplots\n",
        "print(penguins.describe())\n",
        "\n",
        "f, axes = plt.subplots(2, 2)\n",
        "sns.boxplot(x=penguins['sex'],y=penguins['culmen_length_mm'], ax = axes[0][0])\n",
        "sns.boxplot(x=penguins['sex'],y=penguins['culmen_depth_mm'], ax = axes[0][1])\n",
        "sns.boxplot(x=penguins['sex'],y=penguins['flipper_length_mm'], ax = axes[1][0])\n",
        "sns.boxplot(x=penguins['sex'],y=penguins['body_mass_g'], ax = axes[1][1])"
      ],
      "execution_count": 6,
      "outputs": [
        {
          "output_type": "stream",
          "text": [
            "              sex  culmen_length_mm  ...  flipper_length_mm  body_mass_g\n",
            "count  333.000000        333.000000  ...         333.000000   333.000000\n",
            "mean     0.495495         43.992793  ...         200.966967  4207.057057\n",
            "std      0.500732          5.468668  ...          14.015765   805.215802\n",
            "min      0.000000         32.100000  ...         172.000000  2700.000000\n",
            "25%      0.000000         39.500000  ...         190.000000  3550.000000\n",
            "50%      0.000000         44.500000  ...         197.000000  4050.000000\n",
            "75%      1.000000         48.600000  ...         213.000000  4775.000000\n",
            "max      1.000000         59.600000  ...         231.000000  6300.000000\n",
            "\n",
            "[8 rows x 5 columns]\n"
          ],
          "name": "stdout"
        },
        {
          "output_type": "execute_result",
          "data": {
            "text/plain": [
              "<matplotlib.axes._subplots.AxesSubplot at 0x7f81e4770240>"
            ]
          },
          "metadata": {
            "tags": []
          },
          "execution_count": 6
        },
        {
          "output_type": "display_data",
          "data": {
            "image/png": "[encoded data removed]",
            "text/plain": [
              "<Figure size 432x288 with 4 Axes>"
            ]
          },
          "metadata": {
            "tags": [],
            "needs_background": "light"
          }
        }
      ]
    },
    {
      "cell_type": "code",
      "metadata": {
        "id": "AE5DBYJp-U_G"
      },
      "source": [
        "#split dataset to train and test\n",
        "train_dataset = penguins.sample(frac=0.7, random_state=42)\n",
        "test_dataset = penguins.drop(train_dataset.index)"
      ],
      "execution_count": 7,
      "outputs": []
    },
    {
      "cell_type": "code",
      "metadata": {
        "id": "kDvZMzsn-w4Y"
      },
      "source": [
        "# separate label column from the data\n",
        "train_features = train_dataset.copy()\n",
        "test_features = test_dataset.copy()\n",
        "\n",
        "train_labels = train_features.pop(label)\n",
        "test_labels = test_features.pop(label)"
      ],
      "execution_count": 8,
      "outputs": []
    },
    {
      "cell_type": "code",
      "metadata": {
        "id": "sMdsLeHQ_THU"
      },
      "source": [
        "# normalizer for all feature columns\n",
        "normalizer = preprocessing.Normalization()\n",
        "normalizer.adapt(np.array(train_features))"
      ],
      "execution_count": 9,
      "outputs": []
    },
    {
      "cell_type": "code",
      "metadata": {
        "id": "H3W9UWS9_j4x"
      },
      "source": [
        "# model definition\n",
        "dn_model = keras.Sequential([\n",
        "      normalizer,\n",
        "      layers.Dense(64, activation='relu'),\n",
        "      layers.Dense(64, activation='relu'),\n",
        "      layers.Dense(1, activation = 'sigmoid') # maybe 'sigmoid activation function\n",
        "])\n",
        "\n",
        "dn_model.compile(loss='binary_crossentropy', optimizer=tf.keras.optimizers.Adam(0.001), metrics=['accuracy'])"
      ],
      "execution_count": 10,
      "outputs": []
    },
    {
      "cell_type": "code",
      "metadata": {
        "id": "Kjt_EYnOAZtc",
        "outputId": "b722ce4f-fe6b-4b05-c4f0-a05840de1891",
        "colab": {
          "base_uri": "https://localhost:8080/",
          "height": 286
        }
      },
      "source": [
        "dn_model.summary()"
      ],
      "execution_count": 11,
      "outputs": [
        {
          "output_type": "stream",
          "text": [
            "Model: \"sequential\"\n",
            "_________________________________________________________________\n",
            "Layer (type)                 Output Shape              Param #   \n",
            "=================================================================\n",
            "normalization (Normalization (None, 4)                 9         \n",
            "_________________________________________________________________\n",
            "dense (Dense)                (None, 64)                320       \n",
            "_________________________________________________________________\n",
            "dense_1 (Dense)              (None, 64)                4160      \n",
            "_________________________________________________________________\n",
            "dense_2 (Dense)              (None, 1)                 65        \n",
            "=================================================================\n",
            "Total params: 4,554\n",
            "Trainable params: 4,545\n",
            "Non-trainable params: 9\n",
            "_________________________________________________________________\n"
          ],
          "name": "stdout"
        }
      ]
    },
    {
      "cell_type": "code",
      "metadata": {
        "id": "AUtoPrwYkUBg"
      },
      "source": [
        "history = dn_model.fit(\n",
        "    train_features, train_labels,\n",
        "    validation_split=0.2, verbose = 0,\n",
        "    epochs=100)"
      ],
      "execution_count": 12,
      "outputs": []
    },
    {
      "cell_type": "code",
      "metadata": {
        "id": "6R9yAWwakvTf",
        "outputId": "6d65caf0-8e5a-4996-b35c-271570b8c99c",
        "colab": {
          "base_uri": "https://localhost:8080/",
          "height": 283
        }
      },
      "source": [
        "def plot_loss(history):\n",
        "  plt.plot(history.history['accuracy'], label='accuracy')\n",
        "  plt.plot(history.history['val_accuracy'], label='val_accuracy')\n",
        "  plt.ylim([0, 1])\n",
        "  plt.xlabel('Epoch')\n",
        "  plt.ylabel('Cross-entropy')\n",
        "  plt.legend()\n",
        "  plt.grid(True)\n",
        "\n",
        "plot_loss(history)"
      ],
      "execution_count": 13,
      "outputs": [
        {
          "output_type": "display_data",
          "data": {
            "image/png": "[encoded data removed]",
            "text/plain": [
              "<Figure size 432x288 with 1 Axes>"
            ]
          },
          "metadata": {
            "tags": [],
            "needs_background": "light"
          }
        }
      ]
    },
    {
      "cell_type": "code",
      "metadata": {
        "id": "WSg0BUc9mPa4",
        "outputId": "b2ca2080-1303-4e48-bbf6-e1aec07bf3a5",
        "colab": {
          "base_uri": "https://localhost:8080/",
          "height": 34
        }
      },
      "source": [
        "test_evaluation = {}\n",
        "test_evaluation['dn_model'] = dn_model.evaluate(\n",
        "    test_features,\n",
        "    test_labels, verbose=0)\n",
        "test_evaluation"
      ],
      "execution_count": 14,
      "outputs": [
        {
          "output_type": "execute_result",
          "data": {
            "text/plain": [
              "{'dn_model': [0.27435430884361267, 0.8700000047683716]}"
            ]
          },
          "metadata": {
            "tags": []
          },
          "execution_count": 14
        }
      ]
    },
    {
      "cell_type": "code",
      "metadata": {
        "id": "U7Zr6hpJndmv",
        "outputId": "56b53663-6e92-4b27-96ad-2eedbe26fbe1",
        "colab": {
          "base_uri": "https://localhost:8080/",
          "height": 1000
        }
      },
      "source": [
        "dn_model.predict(test_features)"
      ],
      "execution_count": 15,
      "outputs": [
        {
          "output_type": "execute_result",
          "data": {
            "text/plain": [
              "array([[3.96750718e-01],\n",
              "       [2.24791020e-01],\n",
              "       [8.73787701e-02],\n",
              "       [7.60621548e-01],\n",
              "       [9.91042972e-01],\n",
              "       [2.68164277e-03],\n",
              "       [7.10965216e-01],\n",
              "       [3.68104696e-01],\n",
              "       [9.59739566e-01],\n",
              "       [3.46150398e-01],\n",
              "       [6.88180327e-03],\n",
              "       [5.56030869e-03],\n",
              "       [1.00328624e-02],\n",
              "       [1.60739720e-02],\n",
              "       [9.99681234e-01],\n",
              "       [2.42918223e-01],\n",
              "       [8.43393207e-01],\n",
              "       [9.99811769e-01],\n",
              "       [4.09343421e-01],\n",
              "       [9.99163628e-01],\n",
              "       [9.99753356e-01],\n",
              "       [9.99827206e-01],\n",
              "       [9.58949447e-01],\n",
              "       [2.42433965e-01],\n",
              "       [3.98307353e-01],\n",
              "       [1.97632015e-02],\n",
              "       [9.96264219e-01],\n",
              "       [1.24104023e-02],\n",
              "       [4.06269580e-01],\n",
              "       [9.93631482e-01],\n",
              "       [3.23733687e-03],\n",
              "       [9.91816998e-01],\n",
              "       [2.42583156e-02],\n",
              "       [9.98710513e-01],\n",
              "       [9.60451603e-01],\n",
              "       [9.99022245e-01],\n",
              "       [9.85367477e-01],\n",
              "       [9.05790687e-01],\n",
              "       [9.99719381e-01],\n",
              "       [4.33535963e-01],\n",
              "       [2.33342648e-02],\n",
              "       [2.89579660e-01],\n",
              "       [4.71222579e-01],\n",
              "       [9.20982242e-01],\n",
              "       [6.94012642e-03],\n",
              "       [8.91978741e-02],\n",
              "       [6.66856349e-01],\n",
              "       [7.01714158e-02],\n",
              "       [5.85509300e-01],\n",
              "       [7.79289007e-01],\n",
              "       [1.07535034e-01],\n",
              "       [9.61392164e-01],\n",
              "       [5.52987933e-01],\n",
              "       [9.70643759e-03],\n",
              "       [9.43604112e-01],\n",
              "       [1.91950947e-01],\n",
              "       [2.52376974e-01],\n",
              "       [9.79917884e-01],\n",
              "       [1.57138705e-03],\n",
              "       [9.99992728e-01],\n",
              "       [1.37761845e-06],\n",
              "       [9.99925435e-01],\n",
              "       [1.12903118e-03],\n",
              "       [9.99993980e-01],\n",
              "       [9.54473019e-03],\n",
              "       [9.63496327e-01],\n",
              "       [9.99783874e-01],\n",
              "       [9.99754488e-01],\n",
              "       [1.74757838e-03],\n",
              "       [4.49317694e-03],\n",
              "       [4.79793549e-01],\n",
              "       [9.99440670e-01],\n",
              "       [9.99981642e-01],\n",
              "       [1.28146708e-02],\n",
              "       [9.86974716e-01],\n",
              "       [9.09710070e-05],\n",
              "       [9.99977469e-01],\n",
              "       [6.19381666e-04],\n",
              "       [9.99104679e-01],\n",
              "       [8.83890748e-01],\n",
              "       [9.99962628e-01],\n",
              "       [3.44672561e-01],\n",
              "       [9.99566495e-01],\n",
              "       [9.99979913e-01],\n",
              "       [4.08267733e-05],\n",
              "       [2.61736929e-01],\n",
              "       [9.99880195e-01],\n",
              "       [2.77739763e-03],\n",
              "       [9.99313831e-01],\n",
              "       [9.98341799e-01],\n",
              "       [1.10261662e-05],\n",
              "       [9.80573177e-01],\n",
              "       [1.17335141e-01],\n",
              "       [1.34821683e-01],\n",
              "       [2.40302682e-02],\n",
              "       [7.33805109e-06],\n",
              "       [1.98331259e-06],\n",
              "       [9.98348653e-01],\n",
              "       [3.16490293e-01],\n",
              "       [1.02874637e-03]], dtype=float32)"
            ]
          },
          "metadata": {
            "tags": []
          },
          "execution_count": 15
        }
      ]
    }
  ]
}