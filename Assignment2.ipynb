{
  "nbformat": 4,
  "nbformat_minor": 0,
  "metadata": {
    "colab": {
      "name": "Assignment2.ipynb",
      "provenance": [],
      "collapsed_sections": [],
      "mount_file_id": "1xylRhnDYtcbspWLW2IExVHBMHZU3y8S7",
      "authorship_tag": "ABX9TyMdEthDGY8Vw2eFLXO+0WrH",
      "include_colab_link": true
    },
    "kernelspec": {
      "name": "python3",
      "display_name": "Python 3"
    }
  },
  "cells": [
    {
      "cell_type": "markdown",
      "metadata": {
        "id": "view-in-github",
        "colab_type": "text"
      },
      "source": [
        "<a href=\"https://colab.research.google.com/github/Spili11/DS_Praktikum/blob/main/Assignment2.ipynb\" target=\"_parent\"><img src=\"https://colab.research.google.com/assets/colab-badge.svg\" alt=\"Open In Colab\"/></a>"
      ]
    },
    {
      "cell_type": "code",
      "metadata": {
        "id": "zj7U8as1xo3Z"
      },
      "source": [
        "import pandas as pd\n",
        "import numpy as np\n",
        "import matplotlib.pyplot as plt\n",
        "import seaborn as sns\n",
        "\n",
        "import tensorflow as tf\n",
        "from tensorflow import keras\n",
        "from tensorflow.keras import layers\n",
        "from tensorflow.keras.layers.experimental import preprocessing"
      ],
      "execution_count": 1,
      "outputs": []
    },
    {
      "cell_type": "code",
      "metadata": {
        "id": "jS18E5-SyKMR",
        "outputId": "42d7addd-8bf9-4937-bdf0-c5eeb90c0298",
        "colab": {
          "base_uri": "https://localhost:8080/",
          "height": 204
        }
      },
      "source": [
        "penguins_raw = pd.read_csv('/content/drive/My Drive/DS_Praktikum/penguins_size.csv', na_values='NA', skipinitialspace=True)\n",
        "print(penguins_raw.tail())\n",
        "print(penguins_raw.columns)"
      ],
      "execution_count": 2,
      "outputs": [
        {
          "output_type": "stream",
          "text": [
            "    species  island  culmen_length_mm  ...  flipper_length_mm  body_mass_g     sex\n",
            "339  Gentoo  Biscoe               NaN  ...                NaN          NaN     NaN\n",
            "340  Gentoo  Biscoe              46.8  ...              215.0       4850.0  FEMALE\n",
            "341  Gentoo  Biscoe              50.4  ...              222.0       5750.0    MALE\n",
            "342  Gentoo  Biscoe              45.2  ...              212.0       5200.0  FEMALE\n",
            "343  Gentoo  Biscoe              49.9  ...              213.0       5400.0    MALE\n",
            "\n",
            "[5 rows x 7 columns]\n",
            "Index(['species', 'island', 'culmen_length_mm', 'culmen_depth_mm',\n",
            "       'flipper_length_mm', 'body_mass_g', 'sex'],\n",
            "      dtype='object')\n"
          ],
          "name": "stdout"
        }
      ]
    },
    {
      "cell_type": "code",
      "metadata": {
        "id": "P5V-3Jje0FRr"
      },
      "source": [
        "label = 'sex'\n",
        "features = ['culmen_length_mm', 'culmen_depth_mm', 'flipper_length_mm', 'body_mass_g']\n",
        "penguins = penguins_raw.copy()[[label] + features]"
      ],
      "execution_count": 3,
      "outputs": []
    },
    {
      "cell_type": "code",
      "metadata": {
        "id": "rRVUpuI603T3"
      },
      "source": [
        "#unique values\n",
        "print(penguins.sex.drop_duplicates())\n",
        "#NaN values\n",
        "print(penguins.isna().sum())\n",
        "#delete observations with NaN sex and observation with '.' value\n",
        "penguins = penguins.loc[penguins.sex.isin(['FEMALE', 'MALE']), :]"
      ],
      "execution_count": null,
      "outputs": []
    },
    {
      "cell_type": "code",
      "metadata": {
        "id": "dimrxwix18zg"
      },
      "source": [
        "#factorize label, male := 0\n",
        "penguins['sex'] = pd.factorize(penguins['sex'])[0]"
      ],
      "execution_count": 5,
      "outputs": []
    },
    {
      "cell_type": "code",
      "metadata": {
        "id": "gAzIslLP2lGW",
        "outputId": "4c180bf5-e98c-4954-c035-76a213c9e02d",
        "colab": {
          "base_uri": "https://localhost:8080/",
          "height": 484
        }
      },
      "source": [
        "#basic exploratory analysis with boxplots\n",
        "print(penguins.describe())\n",
        "\n",
        "f, axes = plt.subplots(2, 2)\n",
        "sns.boxplot(x=penguins['sex'],y=penguins['culmen_length_mm'], ax = axes[0][0])\n",
        "sns.boxplot(x=penguins['sex'],y=penguins['culmen_depth_mm'], ax = axes[0][1])\n",
        "sns.boxplot(x=penguins['sex'],y=penguins['flipper_length_mm'], ax = axes[1][0])\n",
        "sns.boxplot(x=penguins['sex'],y=penguins['body_mass_g'], ax = axes[1][1])"
      ],
      "execution_count": 6,
      "outputs": [
        {
          "output_type": "stream",
          "text": [
            "              sex  culmen_length_mm  ...  flipper_length_mm  body_mass_g\n",
            "count  333.000000        333.000000  ...         333.000000   333.000000\n",
            "mean     0.495495         43.992793  ...         200.966967  4207.057057\n",
            "std      0.500732          5.468668  ...          14.015765   805.215802\n",
            "min      0.000000         32.100000  ...         172.000000  2700.000000\n",
            "25%      0.000000         39.500000  ...         190.000000  3550.000000\n",
            "50%      0.000000         44.500000  ...         197.000000  4050.000000\n",
            "75%      1.000000         48.600000  ...         213.000000  4775.000000\n",
            "max      1.000000         59.600000  ...         231.000000  6300.000000\n",
            "\n",
            "[8 rows x 5 columns]\n"
          ],
          "name": "stdout"
        },
        {
          "output_type": "execute_result",
          "data": {
            "text/plain": [
              "<matplotlib.axes._subplots.AxesSubplot at 0x7f8c3f617e48>"
            ]
          },
          "metadata": {
            "tags": []
          },
          "execution_count": 6
        },
        {
          "output_type": "display_data",
          "data": {
            "image/png": "[encoded data removed]",
            "text/plain": [
              "<Figure size 432x288 with 4 Axes>"
            ]
          },
          "metadata": {
            "tags": [],
            "needs_background": "light"
          }
        }
      ]
    },
    {
      "cell_type": "code",
      "metadata": {
        "id": "AE5DBYJp-U_G"
      },
      "source": [
        "#split dataset to train and test\n",
        "train_dataset = penguins.sample(frac=0.8, random_state=42)\n",
        "test_dataset = penguins.drop(train_dataset.index)"
      ],
      "execution_count": 7,
      "outputs": []
    },
    {
      "cell_type": "code",
      "metadata": {
        "id": "kDvZMzsn-w4Y"
      },
      "source": [
        "# separate label column from the data\n",
        "train_features = train_dataset.copy()\n",
        "test_features = test_dataset.copy()\n",
        "\n",
        "train_labels = train_features.pop(label)\n",
        "test_labels = test_features.pop(label)"
      ],
      "execution_count": 8,
      "outputs": []
    },
    {
      "cell_type": "code",
      "metadata": {
        "id": "sMdsLeHQ_THU"
      },
      "source": [
        "# normalizer for all feature columns\n",
        "normalizer = preprocessing.Normalization()\n",
        "normalizer.adapt(np.array(train_features))"
      ],
      "execution_count": 9,
      "outputs": []
    },
    {
      "cell_type": "code",
      "metadata": {
        "id": "H3W9UWS9_j4x"
      },
      "source": [
        "# model definition\n",
        "dn_model = keras.Sequential([\n",
        "      normalizer,\n",
        "      layers.Dense(64, activation='relu'),\n",
        "      layers.Dense(64, activation='relu'),\n",
        "      layers.Dense(1) # maybe 'sigmoid activation function\n",
        "])\n",
        "\n",
        "dn_model.compile(loss='binary_crossentropy', optimizer=tf.keras.optimizers.Adam(0.001), metrics=['accuracy'])"
      ],
      "execution_count": 10,
      "outputs": []
    },
    {
      "cell_type": "code",
      "metadata": {
        "id": "Kjt_EYnOAZtc",
        "outputId": "ec37d7d5-8778-46b2-8a77-7a4f047626c0",
        "colab": {
          "base_uri": "https://localhost:8080/",
          "height": 289
        }
      },
      "source": [
        "dn_model.summary()"
      ],
      "execution_count": 11,
      "outputs": [
        {
          "output_type": "stream",
          "text": [
            "Model: \"sequential\"\n",
            "_________________________________________________________________\n",
            "Layer (type)                 Output Shape              Param #   \n",
            "=================================================================\n",
            "normalization (Normalization (None, 4)                 9         \n",
            "_________________________________________________________________\n",
            "dense (Dense)                (None, 64)                320       \n",
            "_________________________________________________________________\n",
            "dense_1 (Dense)              (None, 64)                4160      \n",
            "_________________________________________________________________\n",
            "dense_2 (Dense)              (None, 1)                 65        \n",
            "=================================================================\n",
            "Total params: 4,554\n",
            "Trainable params: 4,545\n",
            "Non-trainable params: 9\n",
            "_________________________________________________________________\n"
          ],
          "name": "stdout"
        }
      ]
    },
    {
      "cell_type": "code",
      "metadata": {
        "id": "AUtoPrwYkUBg"
      },
      "source": [
        "history = dn_model.fit(\n",
        "    train_features, train_labels,\n",
        "    validation_split=0.2, verbose = 0,\n",
        "    epochs=100)"
      ],
      "execution_count": 12,
      "outputs": []
    },
    {
      "cell_type": "code",
      "metadata": {
        "id": "6R9yAWwakvTf",
        "outputId": "407a5fc5-97dc-480a-8fa3-ad3d1f250566",
        "colab": {
          "base_uri": "https://localhost:8080/",
          "height": 283
        }
      },
      "source": [
        "def plot_loss(history):\n",
        "  plt.plot(history.history['accuracy'], label='accuracy')\n",
        "  plt.plot(history.history['val_accuracy'], label='val_accuracy')\n",
        "  plt.ylim([0, 1])\n",
        "  plt.xlabel('Epoch')\n",
        "  plt.ylabel('Cross-entropy')\n",
        "  plt.legend()\n",
        "  plt.grid(True)\n",
        "\n",
        "plot_loss(history)"
      ],
      "execution_count": 13,
      "outputs": [
        {
          "output_type": "display_data",
          "data": {
            "image/png": "[encoded data removed]",
            "text/plain": [
              "<Figure size 432x288 with 1 Axes>"
            ]
          },
          "metadata": {
            "tags": [],
            "needs_background": "light"
          }
        }
      ]
    },
    {
      "cell_type": "code",
      "metadata": {
        "id": "WSg0BUc9mPa4",
        "outputId": "cb8c1433-d034-4ec6-b88f-dfbd7e3367a2",
        "colab": {
          "base_uri": "https://localhost:8080/",
          "height": 34
        }
      },
      "source": [
        "test_evaluation = {}\n",
        "test_evaluation['dn_model'] = dn_model.evaluate(\n",
        "    test_features,\n",
        "    test_labels, verbose=0)\n",
        "test_evaluation"
      ],
      "execution_count": 14,
      "outputs": [
        {
          "output_type": "execute_result",
          "data": {
            "text/plain": [
              "{'dn_model': [0.2073984295129776, 0.9104477763175964]}"
            ]
          },
          "metadata": {
            "tags": []
          },
          "execution_count": 14
        }
      ]
    },
    {
      "cell_type": "code",
      "metadata": {
        "id": "U7Zr6hpJndmv",
        "outputId": "6abc816e-6a29-4f3c-cd53-233cd339d166",
        "colab": {
          "base_uri": "https://localhost:8080/",
          "height": 1000
        }
      },
      "source": [
        "dn_model.predict(test_features)"
      ],
      "execution_count": 15,
      "outputs": [
        {
          "output_type": "execute_result",
          "data": {
            "text/plain": [
              "array([[ 0.41007712],\n",
              "       [ 1.4769529 ],\n",
              "       [ 0.6896896 ],\n",
              "       [ 0.35074463],\n",
              "       [-0.35564485],\n",
              "       [ 0.10376779],\n",
              "       [ 2.2394829 ],\n",
              "       [ 0.19079387],\n",
              "       [ 0.85907036],\n",
              "       [ 2.4432034 ],\n",
              "       [ 0.45646653],\n",
              "       [ 2.0252633 ],\n",
              "       [ 2.3493512 ],\n",
              "       [ 0.01523047],\n",
              "       [ 0.43539724],\n",
              "       [-0.34338167],\n",
              "       [ 1.6441619 ],\n",
              "       [-0.34521243],\n",
              "       [ 0.35143784],\n",
              "       [ 1.5630828 ],\n",
              "       [ 0.00727918],\n",
              "       [ 1.5878723 ],\n",
              "       [-0.27355915],\n",
              "       [ 2.0516608 ],\n",
              "       [ 1.4706169 ],\n",
              "       [ 0.64065266],\n",
              "       [ 0.26126835],\n",
              "       [ 0.9419025 ],\n",
              "       [-0.6722544 ],\n",
              "       [ 0.8022705 ],\n",
              "       [ 0.07505522],\n",
              "       [ 0.580037  ],\n",
              "       [ 0.85719013],\n",
              "       [-0.12286242],\n",
              "       [ 1.400149  ],\n",
              "       [ 0.32848683],\n",
              "       [-0.64807445],\n",
              "       [ 0.01025262],\n",
              "       [ 0.2921998 ],\n",
              "       [ 1.303786  ],\n",
              "       [-1.0725355 ],\n",
              "       [ 3.1449828 ],\n",
              "       [-1.0675673 ],\n",
              "       [ 1.0429889 ],\n",
              "       [ 2.282813  ],\n",
              "       [ 2.3209805 ],\n",
              "       [-0.6924753 ],\n",
              "       [ 2.889863  ],\n",
              "       [-0.5653775 ],\n",
              "       [-1.4066097 ],\n",
              "       [ 2.8657422 ],\n",
              "       [ 1.9769982 ],\n",
              "       [ 0.86679626],\n",
              "       [ 2.6899443 ],\n",
              "       [ 0.3475409 ],\n",
              "       [ 2.956936  ],\n",
              "       [-1.2034247 ],\n",
              "       [ 2.3664339 ],\n",
              "       [-0.43199432],\n",
              "       [ 1.7937635 ],\n",
              "       [-2.1087425 ],\n",
              "       [ 0.19599637],\n",
              "       [-0.50503796],\n",
              "       [-1.9968697 ],\n",
              "       [-2.70015   ],\n",
              "       [ 0.10737734],\n",
              "       [-1.0371033 ]], dtype=float32)"
            ]
          },
          "metadata": {
            "tags": []
          },
          "execution_count": 15
        }
      ]
    }
  ]
}