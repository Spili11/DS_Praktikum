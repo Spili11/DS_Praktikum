{
  "nbformat": 4,
  "nbformat_minor": 0,
  "metadata": {
    "colab": {
      "name": "Assignment2.ipynb",
      "provenance": [],
      "collapsed_sections": [],
      "mount_file_id": "1xylRhnDYtcbspWLW2IExVHBMHZU3y8S7",
      "authorship_tag": "ABX9TyMtN1y8VMIZJD3KnqTCUfFQ",
      "include_colab_link": true
    },
    "kernelspec": {
      "name": "python3",
      "display_name": "Python 3"
    }
  },
  "cells": [
    {
      "cell_type": "markdown",
      "metadata": {
        "id": "view-in-github",
        "colab_type": "text"
      },
      "source": [
        "<a href=\"https://colab.research.google.com/github/Spili11/DS_Praktikum/blob/main/Assignment2.ipynb\" target=\"_parent\"><img src=\"https://colab.research.google.com/assets/colab-badge.svg\" alt=\"Open In Colab\"/></a>"
      ]
    },
    {
      "cell_type": "markdown",
      "metadata": {
        "id": "gEfdf2BUIaoI"
      },
      "source": [
        "Kája Trachtová, Michaela Kecskéková, Martin Špilar\n",
        "\n"
      ]
    },
    {
      "cell_type": "code",
      "metadata": {
        "id": "zj7U8as1xo3Z"
      },
      "source": [
        "import pandas as pd\n",
        "import numpy as np\n",
        "import matplotlib.pyplot as plt\n",
        "import seaborn as sns\n",
        "\n",
        "import tensorflow as tf\n",
        "from tensorflow import keras\n",
        "from tensorflow.keras import layers\n",
        "from tensorflow.keras.layers.experimental import preprocessing"
      ],
      "execution_count": 2,
      "outputs": []
    },
    {
      "cell_type": "code",
      "metadata": {
        "id": "jS18E5-SyKMR",
        "outputId": "f4c04079-4877-4020-e693-7365bd246b3c",
        "colab": {
          "base_uri": "https://localhost:8080/",
          "height": 204
        }
      },
      "source": [
        "penguins_raw = pd.read_csv('/content/drive/My Drive/DS_Praktikum/penguins_size.csv', na_values='NA', skipinitialspace=True)\n",
        "print(penguins_raw.tail())\n",
        "print(penguins_raw.columns)"
      ],
      "execution_count": 3,
      "outputs": [
        {
          "output_type": "stream",
          "text": [
            "    species  island  culmen_length_mm  ...  flipper_length_mm  body_mass_g     sex\n",
            "339  Gentoo  Biscoe               NaN  ...                NaN          NaN     NaN\n",
            "340  Gentoo  Biscoe              46.8  ...              215.0       4850.0  FEMALE\n",
            "341  Gentoo  Biscoe              50.4  ...              222.0       5750.0    MALE\n",
            "342  Gentoo  Biscoe              45.2  ...              212.0       5200.0  FEMALE\n",
            "343  Gentoo  Biscoe              49.9  ...              213.0       5400.0    MALE\n",
            "\n",
            "[5 rows x 7 columns]\n",
            "Index(['species', 'island', 'culmen_length_mm', 'culmen_depth_mm',\n",
            "       'flipper_length_mm', 'body_mass_g', 'sex'],\n",
            "      dtype='object')\n"
          ],
          "name": "stdout"
        }
      ]
    },
    {
      "cell_type": "code",
      "metadata": {
        "id": "P5V-3Jje0FRr"
      },
      "source": [
        "label = 'sex'\n",
        "features = ['culmen_length_mm', 'culmen_depth_mm', 'flipper_length_mm', 'body_mass_g']\n",
        "penguins = penguins_raw.copy()[[label] + features]"
      ],
      "execution_count": 4,
      "outputs": []
    },
    {
      "cell_type": "code",
      "metadata": {
        "id": "rRVUpuI603T3",
        "outputId": "f907a0c1-f02b-4fac-9e33-d3899d946c29",
        "colab": {
          "base_uri": "https://localhost:8080/",
          "height": 204
        }
      },
      "source": [
        "#unique values\n",
        "print(penguins.sex.drop_duplicates())\n",
        "#NaN values\n",
        "print(penguins.isna().sum())\n",
        "#delete observations with NaN sex and observation with '.' value\n",
        "penguins = penguins.loc[penguins.sex.isin(['FEMALE', 'MALE']), :]"
      ],
      "execution_count": 5,
      "outputs": [
        {
          "output_type": "stream",
          "text": [
            "0        MALE\n",
            "1      FEMALE\n",
            "3         NaN\n",
            "336         .\n",
            "Name: sex, dtype: object\n",
            "sex                  10\n",
            "culmen_length_mm      2\n",
            "culmen_depth_mm       2\n",
            "flipper_length_mm     2\n",
            "body_mass_g           2\n",
            "dtype: int64\n"
          ],
          "name": "stdout"
        }
      ]
    },
    {
      "cell_type": "code",
      "metadata": {
        "id": "dimrxwix18zg"
      },
      "source": [
        "#factorize label, male := 0\n",
        "penguins['sex'] = pd.factorize(penguins['sex'])[0]"
      ],
      "execution_count": 7,
      "outputs": []
    },
    {
      "cell_type": "code",
      "metadata": {
        "id": "gAzIslLP2lGW",
        "outputId": "bc930e25-306d-499e-cc06-b378763a13e0",
        "colab": {
          "base_uri": "https://localhost:8080/",
          "height": 482
        }
      },
      "source": [
        "#basic exploratory analysis with boxplots\n",
        "print(penguins.describe())\n",
        "\n",
        "f, axes = plt.subplots(2, 2)\n",
        "sns.boxplot(x=penguins['sex'],y=penguins['culmen_length_mm'], ax = axes[0][0])\n",
        "sns.boxplot(x=penguins['sex'],y=penguins['culmen_depth_mm'], ax = axes[0][1])\n",
        "sns.boxplot(x=penguins['sex'],y=penguins['flipper_length_mm'], ax = axes[1][0])\n",
        "sns.boxplot(x=penguins['sex'],y=penguins['body_mass_g'], ax = axes[1][1])"
      ],
      "execution_count": null,
      "outputs": [
        {
          "output_type": "stream",
          "text": [
            "              sex  culmen_length_mm  ...  flipper_length_mm  body_mass_g\n",
            "count  333.000000        333.000000  ...         333.000000   333.000000\n",
            "mean     0.495495         43.992793  ...         200.966967  4207.057057\n",
            "std      0.500732          5.468668  ...          14.015765   805.215802\n",
            "min      0.000000         32.100000  ...         172.000000  2700.000000\n",
            "25%      0.000000         39.500000  ...         190.000000  3550.000000\n",
            "50%      0.000000         44.500000  ...         197.000000  4050.000000\n",
            "75%      1.000000         48.600000  ...         213.000000  4775.000000\n",
            "max      1.000000         59.600000  ...         231.000000  6300.000000\n",
            "\n",
            "[8 rows x 5 columns]\n"
          ],
          "name": "stdout"
        },
        {
          "output_type": "execute_result",
          "data": {
            "text/plain": [
              "<matplotlib.axes._subplots.AxesSubplot at 0x7fe61421a208>"
            ]
          },
          "metadata": {
            "tags": []
          },
          "execution_count": 6
        },
        {
          "output_type": "display_data",
          "data": {
            "image/png": "[encoded data removed]",
            "text/plain": [
              "<Figure size 432x288 with 4 Axes>"
            ]
          },
          "metadata": {
            "tags": [],
            "needs_background": "light"
          }
        }
      ]
    },
    {
      "cell_type": "code",
      "metadata": {
        "id": "AE5DBYJp-U_G"
      },
      "source": [
        "#split dataset to train and test\n",
        "train_dataset = penguins.sample(frac=0.7, random_state=42)\n",
        "test_dataset = penguins.drop(train_dataset.index)"
      ],
      "execution_count": null,
      "outputs": []
    },
    {
      "cell_type": "code",
      "metadata": {
        "id": "kDvZMzsn-w4Y"
      },
      "source": [
        "# separate label column from the data\n",
        "train_features = train_dataset.copy()\n",
        "test_features = test_dataset.copy()\n",
        "\n",
        "train_labels = train_features.pop(label)\n",
        "test_labels = test_features.pop(label)"
      ],
      "execution_count": null,
      "outputs": []
    },
    {
      "cell_type": "code",
      "metadata": {
        "id": "sMdsLeHQ_THU"
      },
      "source": [
        "# normalizer for all feature columns\n",
        "normalizer = preprocessing.Normalization()\n",
        "normalizer.adapt(np.array(train_features))"
      ],
      "execution_count": null,
      "outputs": []
    },
    {
      "cell_type": "code",
      "metadata": {
        "id": "H3W9UWS9_j4x"
      },
      "source": [
        "# model definition\n",
        "dn_model = keras.Sequential([\n",
        "      normalizer,\n",
        "      layers.Dense(64, activation='relu'),\n",
        "      layers.Dense(64, activation='relu'),\n",
        "      layers.Dense(1, activation = 'sigmoid') # maybe 'sigmoid activation function\n",
        "])\n",
        "\n",
        "dn_model.compile(loss='binary_crossentropy', optimizer=tf.keras.optimizers.Adam(0.001), metrics=['accuracy'])"
      ],
      "execution_count": null,
      "outputs": []
    },
    {
      "cell_type": "code",
      "metadata": {
        "id": "Kjt_EYnOAZtc",
        "outputId": "a80a7912-4628-4aa7-b365-99c4fb7ebbcf",
        "colab": {
          "base_uri": "https://localhost:8080/",
          "height": 286
        }
      },
      "source": [
        "dn_model.summary()"
      ],
      "execution_count": null,
      "outputs": [
        {
          "output_type": "stream",
          "text": [
            "Model: \"sequential_1\"\n",
            "_________________________________________________________________\n",
            "Layer (type)                 Output Shape              Param #   \n",
            "=================================================================\n",
            "normalization (Normalization (None, 4)                 9         \n",
            "_________________________________________________________________\n",
            "dense_3 (Dense)              (None, 64)                320       \n",
            "_________________________________________________________________\n",
            "dense_4 (Dense)              (None, 64)                4160      \n",
            "_________________________________________________________________\n",
            "dense_5 (Dense)              (None, 1)                 65        \n",
            "=================================================================\n",
            "Total params: 4,554\n",
            "Trainable params: 4,545\n",
            "Non-trainable params: 9\n",
            "_________________________________________________________________\n"
          ],
          "name": "stdout"
        }
      ]
    },
    {
      "cell_type": "code",
      "metadata": {
        "id": "AUtoPrwYkUBg"
      },
      "source": [
        "history = dn_model.fit(\n",
        "    train_features, train_labels,\n",
        "    validation_split=0.2, verbose = 0,\n",
        "    epochs=100)"
      ],
      "execution_count": null,
      "outputs": []
    },
    {
      "cell_type": "code",
      "metadata": {
        "id": "6R9yAWwakvTf",
        "outputId": "3ed07c0d-c41a-48c6-e697-ea62d18507e6",
        "colab": {
          "base_uri": "https://localhost:8080/",
          "height": 283
        }
      },
      "source": [
        "def plot_loss(history):\n",
        "  plt.plot(history.history['accuracy'], label='accuracy')\n",
        "  plt.plot(history.history['val_accuracy'], label='val_accuracy')\n",
        "  plt.ylim([0, 1])\n",
        "  plt.xlabel('Epoch')\n",
        "  plt.ylabel('Cross-entropy')\n",
        "  plt.legend()\n",
        "  plt.grid(True)\n",
        "\n",
        "plot_loss(history)"
      ],
      "execution_count": null,
      "outputs": [
        {
          "output_type": "display_data",
          "data": {
            "image/png": "[encoded data removed]",
            "text/plain": [
              "<Figure size 432x288 with 1 Axes>"
            ]
          },
          "metadata": {
            "tags": [],
            "needs_background": "light"
          }
        }
      ]
    },
    {
      "cell_type": "code",
      "metadata": {
        "id": "WSg0BUc9mPa4",
        "outputId": "6257898b-59f8-4d86-f7ca-9ba5ad1663bd",
        "colab": {
          "base_uri": "https://localhost:8080/",
          "height": 34
        }
      },
      "source": [
        "test_evaluation = {}\n",
        "test_evaluation['dn_model'] = dn_model.evaluate(\n",
        "    test_features,\n",
        "    test_labels, verbose=0)\n",
        "test_evaluation"
      ],
      "execution_count": null,
      "outputs": [
        {
          "output_type": "execute_result",
          "data": {
            "text/plain": [
              "{'dn_model': [0.30061426758766174, 0.8399999737739563]}"
            ]
          },
          "metadata": {
            "tags": []
          },
          "execution_count": 28
        }
      ]
    },
    {
      "cell_type": "code",
      "metadata": {
        "id": "U7Zr6hpJndmv"
      },
      "source": [
        "dn_model.predict(test_features)"
      ],
      "execution_count": null,
      "outputs": []
    },
    {
      "cell_type": "markdown",
      "metadata": {
        "id": "6nkx2sRc-fti"
      },
      "source": [
        " New Try "
      ]
    },
    {
      "cell_type": "code",
      "metadata": {
        "id": "T5KSxDys-pWl"
      },
      "source": [
        "penguins['sex'] = penguins['sex'].map({0: 'MALE', 1: 'FEMALE'})\n",
        "penguins = pd.get_dummies(penguins, prefix='', prefix_sep='')"
      ],
      "execution_count": 9,
      "outputs": []
    },
    {
      "cell_type": "code",
      "metadata": {
        "id": "0vE7XiIm_jjN"
      },
      "source": [
        "#split dataset to train and test\n",
        "train_dataset = penguins.sample(frac=0.7, random_state=42)\n",
        "test_dataset = penguins.drop(train_dataset.index)"
      ],
      "execution_count": 11,
      "outputs": []
    },
    {
      "cell_type": "code",
      "metadata": {
        "id": "e6YNvFcnAAi5"
      },
      "source": [
        "# separate label column from the data\n",
        "label = ['MALE', 'FEMALE']\n",
        "\n",
        "train_features = train_dataset.copy()\n",
        "test_features = test_dataset.copy()\n",
        "\n",
        "train_labels = train_features.loc[:,  label]\n",
        "test_labels = test_features.loc[:,  label]\n",
        "\n",
        "train_features.drop(label, axis= 1, inplace = True)\n",
        "test_features.drop(label, axis= 1, inplace = True)"
      ],
      "execution_count": 16,
      "outputs": []
    },
    {
      "cell_type": "code",
      "metadata": {
        "id": "2ZTcTkV5A8Aw"
      },
      "source": [
        "normalizer = preprocessing.Normalization()\n",
        "normalizer.adapt(np.array(train_features))"
      ],
      "execution_count": 19,
      "outputs": []
    },
    {
      "cell_type": "code",
      "metadata": {
        "id": "u53Gvo82BAGC"
      },
      "source": [
        "# model definition\n",
        "dn_model_2 = keras.Sequential([\n",
        "      normalizer,\n",
        "      layers.Dense(64, activation='relu'),\n",
        "      layers.Dense(64, activation='relu'),\n",
        "      layers.Dense(2, activation = 'softmax')\n",
        "])\n",
        "\n",
        "dn_model_2.compile(loss='binary_crossentropy', optimizer=tf.keras.optimizers.Adam(0.001), metrics=['accuracy'])"
      ],
      "execution_count": 21,
      "outputs": []
    },
    {
      "cell_type": "code",
      "metadata": {
        "id": "npm6-1esBL1v"
      },
      "source": [
        "history = dn_model_2.fit(\n",
        "    train_features, train_labels,\n",
        "    validation_split=0.2, verbose = 0,\n",
        "    epochs=100)"
      ],
      "execution_count": 23,
      "outputs": []
    },
    {
      "cell_type": "code",
      "metadata": {
        "id": "bbb4hQ2wBRZS",
        "outputId": "3de909df-e792-44fa-ae44-166ca3d2830e",
        "colab": {
          "base_uri": "https://localhost:8080/",
          "height": 283
        }
      },
      "source": [
        "def plot_loss(history):\n",
        "  plt.plot(history.history['accuracy'], label='accuracy')\n",
        "  plt.plot(history.history['val_accuracy'], label='val_accuracy')\n",
        "  plt.ylim([0, 1])\n",
        "  plt.xlabel('Epoch')\n",
        "  plt.ylabel('Cross-entropy')\n",
        "  plt.legend()\n",
        "  plt.grid(True)\n",
        "\n",
        "plot_loss(history)"
      ],
      "execution_count": 24,
      "outputs": [
        {
          "output_type": "display_data",
          "data": {
            "image/png": "[encoded data removed]",
            "text/plain": [
              "<Figure size 432x288 with 1 Axes>"
            ]
          },
          "metadata": {
            "tags": [],
            "needs_background": "light"
          }
        }
      ]
    },
    {
      "cell_type": "code",
      "metadata": {
        "id": "Q6k5aR7BBjS_",
        "outputId": "7ee8c8f6-2f51-4f9c-d86b-5df41ee8b2a4",
        "colab": {
          "base_uri": "https://localhost:8080/",
          "height": 34
        }
      },
      "source": [
        "test_evaluation = {}\n",
        "test_evaluation['dn_model_2'] = dn_model_2.evaluate(\n",
        "    test_features,\n",
        "    test_labels, verbose=0)\n",
        "test_evaluation"
      ],
      "execution_count": 25,
      "outputs": [
        {
          "output_type": "execute_result",
          "data": {
            "text/plain": [
              "{'dn_model_2': [0.29169201850891113, 0.8799999952316284]}"
            ]
          },
          "metadata": {
            "tags": []
          },
          "execution_count": 25
        }
      ]
    },
    {
      "cell_type": "code",
      "metadata": {
        "id": "Hy8Ct1RqBmtz"
      },
      "source": [
        "predikce = dn_model_2.predict(test_features)\n",
        "vysledek_predikce = []\n",
        "for i in range(len(predikce)):\n",
        "  podminka = predikce[i][0] >= predikce[i][1] \n",
        "  if podminka:\n",
        "    vysledek_predikce += [1] #MALE\n",
        "  else:\n",
        "    vysledek_predikce += [0] #FEMALE"
      ],
      "execution_count": null,
      "outputs": []
    },
    {
      "cell_type": "code",
      "metadata": {
        "id": "lXJ1MQGrDS4f",
        "outputId": "dd09997b-b122-4bb3-964f-9cc1e3b15a68",
        "colab": {
          "base_uri": "https://localhost:8080/",
          "height": 68
        }
      },
      "source": [
        "print('Velikost testovacího datového souboru: ' + str(len(test_labels)))\n",
        "print('Počet správně odhadnutých hodnot: ' + str((test_labels['MALE'] == vysledek_predikce).sum()))\n",
        "print('Přesnost: ' +  str((test_labels['MALE'] == vysledek_predikce).sum() / len(test_labels))) \n",
        "## odpovídá test_evaluation[1]"
      ],
      "execution_count": 45,
      "outputs": [
        {
          "output_type": "stream",
          "text": [
            "Velikost testovacího datového souboru: 100\n",
            "Počet správně odhadnutýchch hodnot: 88\n",
            "Přesnost: 0.88\n"
          ],
          "name": "stdout"
        }
      ]
    }
  ]
}