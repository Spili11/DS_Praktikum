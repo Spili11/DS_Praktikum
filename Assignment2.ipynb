{
  "nbformat": 4,
  "nbformat_minor": 0,
  "metadata": {
    "colab": {
      "name": "Assignment2.ipynb",
      "provenance": [],
      "collapsed_sections": [],
      "mount_file_id": "1xylRhnDYtcbspWLW2IExVHBMHZU3y8S7",
      "authorship_tag": "ABX9TyMdEthDGY8Vw2eFLXO+0WrH",
      "include_colab_link": true
    },
    "kernelspec": {
      "name": "python3",
      "display_name": "Python 3"
    }
  },
  "cells": [
    {
      "cell_type": "markdown",
      "metadata": {
        "id": "view-in-github",
        "colab_type": "text"
      },
      "source": [
        "<a href=\"https://colab.research.google.com/github/Spili11/DS_Praktikum/blob/main/Assignment2.ipynb\" target=\"_parent\"><img src=\"https://colab.research.google.com/assets/colab-badge.svg\" alt=\"Open In Colab\"/></a>"
      ]
    },
    {
      "cell_type": "code",
      "metadata": {
        "id": "zj7U8as1xo3Z"
      },
      "source": [
        "import pandas as pd\n",
        "import numpy as np\n",
        "import matplotlib.pyplot as plt\n",
        "import seaborn as sns\n",
        "\n",
        "import tensorflow as tf\n",
        "from tensorflow import keras\n",
        "from tensorflow.keras import layers\n",
        "from tensorflow.keras.layers.experimental import preprocessing"
      ],
      "execution_count": 1,
      "outputs": []
    },
    {
      "cell_type": "code",
      "metadata": {
        "id": "jS18E5-SyKMR",
        "outputId": "fcad47b8-0aa8-4d50-dc96-ed54fdfd2543",
        "colab": {
          "base_uri": "https://localhost:8080/",
          "height": 204
        }
      },
      "source": [
        "penguins_raw = pd.read_csv('/content/drive/My Drive/DS_Praktikum/penguins_size.csv', na_values='NA', skipinitialspace=True)\n",
        "print(penguins_raw.tail())\n",
        "print(penguins_raw.columns)"
      ],
      "execution_count": 2,
      "outputs": [
        {
          "output_type": "stream",
          "text": [
            "    species  island  culmen_length_mm  ...  flipper_length_mm  body_mass_g     sex\n",
            "339  Gentoo  Biscoe               NaN  ...                NaN          NaN     NaN\n",
            "340  Gentoo  Biscoe              46.8  ...              215.0       4850.0  FEMALE\n",
            "341  Gentoo  Biscoe              50.4  ...              222.0       5750.0    MALE\n",
            "342  Gentoo  Biscoe              45.2  ...              212.0       5200.0  FEMALE\n",
            "343  Gentoo  Biscoe              49.9  ...              213.0       5400.0    MALE\n",
            "\n",
            "[5 rows x 7 columns]\n",
            "Index(['species', 'island', 'culmen_length_mm', 'culmen_depth_mm',\n",
            "       'flipper_length_mm', 'body_mass_g', 'sex'],\n",
            "      dtype='object')\n"
          ],
          "name": "stdout"
        }
      ]
    },
    {
      "cell_type": "code",
      "metadata": {
        "id": "P5V-3Jje0FRr"
      },
      "source": [
        "label = 'sex'\n",
        "features = ['culmen_length_mm', 'culmen_depth_mm', 'flipper_length_mm', 'body_mass_g']\n",
        "penguins = penguins_raw.copy()[[label] + features]"
      ],
      "execution_count": 3,
      "outputs": []
    },
    {
      "cell_type": "code",
      "metadata": {
        "id": "rRVUpuI603T3",
        "outputId": "7d5a999e-e660-426e-93e6-dffb96994261",
        "colab": {
          "base_uri": "https://localhost:8080/",
          "height": 204
        }
      },
      "source": [
        "#unique values\n",
        "print(penguins.sex.drop_duplicates())\n",
        "#NaN values\n",
        "print(penguins.isna().sum())\n",
        "#delete observations with NaN sex and observation with '.' value\n",
        "penguins = penguins.loc[penguins.sex.isin(['FEMALE', 'MALE']), :]"
      ],
      "execution_count": 4,
      "outputs": [
        {
          "output_type": "stream",
          "text": [
            "0        MALE\n",
            "1      FEMALE\n",
            "3         NaN\n",
            "336         .\n",
            "Name: sex, dtype: object\n",
            "sex                  10\n",
            "culmen_length_mm      2\n",
            "culmen_depth_mm       2\n",
            "flipper_length_mm     2\n",
            "body_mass_g           2\n",
            "dtype: int64\n"
          ],
          "name": "stdout"
        }
      ]
    },
    {
      "cell_type": "code",
      "metadata": {
        "id": "dimrxwix18zg"
      },
      "source": [
        "#factorize label, male := 0\n",
        "penguins['sex'] = pd.factorize(penguins['sex'])[0]"
      ],
      "execution_count": 5,
      "outputs": []
    },
    {
      "cell_type": "code",
      "metadata": {
        "id": "gAzIslLP2lGW",
        "outputId": "4bb5cf1d-3f52-4cec-8e46-81cf4cc84a51",
        "colab": {
          "base_uri": "https://localhost:8080/",
          "height": 484
        }
      },
      "source": [
        "#basic exploratory analysis with boxplots\n",
        "print(penguins.describe())\n",
        "\n",
        "f, axes = plt.subplots(2, 2)\n",
        "sns.boxplot(x=penguins['sex'],y=penguins['culmen_length_mm'], ax = axes[0][0])\n",
        "sns.boxplot(x=penguins['sex'],y=penguins['culmen_depth_mm'], ax = axes[0][1])\n",
        "sns.boxplot(x=penguins['sex'],y=penguins['flipper_length_mm'], ax = axes[1][0])\n",
        "sns.boxplot(x=penguins['sex'],y=penguins['body_mass_g'], ax = axes[1][1])"
      ],
      "execution_count": 6,
      "outputs": [
        {
          "output_type": "stream",
          "text": [
            "              sex  culmen_length_mm  ...  flipper_length_mm  body_mass_g\n",
            "count  333.000000        333.000000  ...         333.000000   333.000000\n",
            "mean     0.495495         43.992793  ...         200.966967  4207.057057\n",
            "std      0.500732          5.468668  ...          14.015765   805.215802\n",
            "min      0.000000         32.100000  ...         172.000000  2700.000000\n",
            "25%      0.000000         39.500000  ...         190.000000  3550.000000\n",
            "50%      0.000000         44.500000  ...         197.000000  4050.000000\n",
            "75%      1.000000         48.600000  ...         213.000000  4775.000000\n",
            "max      1.000000         59.600000  ...         231.000000  6300.000000\n",
            "\n",
            "[8 rows x 5 columns]\n"
          ],
          "name": "stdout"
        },
        {
          "output_type": "execute_result",
          "data": {
            "text/plain": [
              "<matplotlib.axes._subplots.AxesSubplot at 0x7fa9c5c39dd8>"
            ]
          },
          "metadata": {
            "tags": []
          },
          "execution_count": 6
        },
        {
          "output_type": "display_data",
          "data": {
            "image/png": "[encoded data removed]",
            "text/plain": [
              "<Figure size 432x288 with 4 Axes>"
            ]
          },
          "metadata": {
            "tags": [],
            "needs_background": "light"
          }
        }
      ]
    },
    {
      "cell_type": "code",
      "metadata": {
        "id": "AE5DBYJp-U_G"
      },
      "source": [
        "#split dataset to train and test\n",
        "train_dataset = penguins.sample(frac=0.8, random_state=42)\n",
        "test_dataset = penguins.drop(train_dataset.index)"
      ],
      "execution_count": 7,
      "outputs": []
    },
    {
      "cell_type": "code",
      "metadata": {
        "id": "kDvZMzsn-w4Y"
      },
      "source": [
        "# separate label column from the data\n",
        "train_features = train_dataset.copy()\n",
        "test_features = test_dataset.copy()\n",
        "\n",
        "train_labels = train_features.pop(label)\n",
        "test_labels = test_features.pop(label)"
      ],
      "execution_count": 8,
      "outputs": []
    },
    {
      "cell_type": "code",
      "metadata": {
        "id": "sMdsLeHQ_THU"
      },
      "source": [
        "# normalizer for all feature columns\n",
        "normalizer = preprocessing.Normalization()\n",
        "normalizer.adapt(np.array(train_features))"
      ],
      "execution_count": 9,
      "outputs": []
    },
    {
      "cell_type": "code",
      "metadata": {
        "id": "H3W9UWS9_j4x"
      },
      "source": [
        "# model definition\n",
        "dn_model = keras.Sequential([\n",
        "      normalizer,\n",
        "      layers.Dense(64, activation='relu'),\n",
        "      layers.Dense(64, activation='relu'),\n",
        "      layers.Dense(1) # maybe 'sigmoid activation function\n",
        "])\n",
        "\n",
        "dn_model.compile(loss='binary_crossentropy', optimizer=tf.keras.optimizers.Adam(0.001), metrics=['accuracy'])"
      ],
      "execution_count": 28,
      "outputs": []
    },
    {
      "cell_type": "code",
      "metadata": {
        "id": "Kjt_EYnOAZtc",
        "outputId": "77e2a7f9-f208-4a90-857a-e9d224dbc485",
        "colab": {
          "base_uri": "https://localhost:8080/",
          "height": 289
        }
      },
      "source": [
        "dn_model.summary()"
      ],
      "execution_count": 29,
      "outputs": [
        {
          "output_type": "stream",
          "text": [
            "Model: \"sequential_3\"\n",
            "_________________________________________________________________\n",
            "Layer (type)                 Output Shape              Param #   \n",
            "=================================================================\n",
            "normalization (Normalization (None, 4)                 9         \n",
            "_________________________________________________________________\n",
            "dense_8 (Dense)              (None, 64)                320       \n",
            "_________________________________________________________________\n",
            "dense_9 (Dense)              (None, 64)                4160      \n",
            "_________________________________________________________________\n",
            "dense_10 (Dense)             (None, 1)                 65        \n",
            "=================================================================\n",
            "Total params: 4,554\n",
            "Trainable params: 4,545\n",
            "Non-trainable params: 9\n",
            "_________________________________________________________________\n"
          ],
          "name": "stdout"
        }
      ]
    },
    {
      "cell_type": "code",
      "metadata": {
        "id": "AUtoPrwYkUBg"
      },
      "source": [
        "history = dn_model.fit(\n",
        "    train_features, train_labels,\n",
        "    validation_split=0.2, verbose = 0,\n",
        "    epochs=100)"
      ],
      "execution_count": 30,
      "outputs": []
    },
    {
      "cell_type": "code",
      "metadata": {
        "id": "6R9yAWwakvTf",
        "outputId": "12b38113-1c0f-4b26-a1b9-17bbcfc0f782",
        "colab": {
          "base_uri": "https://localhost:8080/",
          "height": 283
        }
      },
      "source": [
        "def plot_loss(history):\n",
        "  plt.plot(history.history['accuracy'], label='accuracy')\n",
        "  plt.plot(history.history['val_accuracy'], label='val_accuracy')\n",
        "  plt.ylim([0, 1])\n",
        "  plt.xlabel('Epoch')\n",
        "  plt.ylabel('Cross-entropy')\n",
        "  plt.legend()\n",
        "  plt.grid(True)\n",
        "\n",
        "plot_loss(history)"
      ],
      "execution_count": 31,
      "outputs": [
        {
          "output_type": "display_data",
          "data": {
            "image/png": "[encoded data removed]",
            "text/plain": [
              "<Figure size 432x288 with 1 Axes>"
            ]
          },
          "metadata": {
            "tags": [],
            "needs_background": "light"
          }
        }
      ]
    },
    {
      "cell_type": "code",
      "metadata": {
        "id": "WSg0BUc9mPa4",
        "outputId": "7db20b20-e827-493c-c8fa-cf35ff933383",
        "colab": {
          "base_uri": "https://localhost:8080/",
          "height": 34
        }
      },
      "source": [
        "test_evaluation = {}\n",
        "test_evaluation['dn_model'] = dn_model.evaluate(\n",
        "    test_features,\n",
        "    test_labels, verbose=0)\n",
        "test_evaluation"
      ],
      "execution_count": 32,
      "outputs": [
        {
          "output_type": "execute_result",
          "data": {
            "text/plain": [
              "{'dn_model': [0.22095441818237305, 0.89552241563797]}"
            ]
          },
          "metadata": {
            "tags": []
          },
          "execution_count": 32
        }
      ]
    },
    {
      "cell_type": "code",
      "metadata": {
        "id": "U7Zr6hpJndmv",
        "outputId": "a12a4b4b-f38f-44da-c19e-c619899bbf82",
        "colab": {
          "base_uri": "https://localhost:8080/",
          "height": 1000
        }
      },
      "source": [
        "dn_model.predict(test_features)"
      ],
      "execution_count": 33,
      "outputs": [
        {
          "output_type": "execute_result",
          "data": {
            "text/plain": [
              "array([[4.33828741e-01],\n",
              "       [9.92418528e-01],\n",
              "       [6.29411519e-01],\n",
              "       [3.48111749e-01],\n",
              "       [1.82232261e-03],\n",
              "       [1.99990273e-02],\n",
              "       [9.99734521e-01],\n",
              "       [2.78933287e-01],\n",
              "       [9.04265106e-01],\n",
              "       [9.99898553e-01],\n",
              "       [5.41326821e-01],\n",
              "       [9.99540567e-01],\n",
              "       [9.99857128e-01],\n",
              "       [1.32134765e-01],\n",
              "       [4.21000242e-01],\n",
              "       [5.34641743e-03],\n",
              "       [9.97874737e-01],\n",
              "       [8.55755806e-03],\n",
              "       [4.09964025e-01],\n",
              "       [9.96402025e-01],\n",
              "       [6.22883439e-03],\n",
              "       [9.95694518e-01],\n",
              "       [1.70471966e-02],\n",
              "       [9.99492288e-01],\n",
              "       [9.94600177e-01],\n",
              "       [3.55383277e-01],\n",
              "       [2.53965616e-01],\n",
              "       [9.21607614e-01],\n",
              "       [4.85950708e-03],\n",
              "       [7.06163585e-01],\n",
              "       [6.48703575e-02],\n",
              "       [5.62383175e-01],\n",
              "       [7.55095363e-01],\n",
              "       [7.97439218e-02],\n",
              "       [9.78159666e-01],\n",
              "       [6.00547612e-01],\n",
              "       [1.33818984e-02],\n",
              "       [1.57214612e-01],\n",
              "       [1.38718158e-01],\n",
              "       [9.81144011e-01],\n",
              "       [7.00771809e-04],\n",
              "       [9.99993443e-01],\n",
              "       [5.49316406e-04],\n",
              "       [9.49475884e-01],\n",
              "       [9.99850869e-01],\n",
              "       [9.99827147e-01],\n",
              "       [4.64862585e-03],\n",
              "       [9.99980211e-01],\n",
              "       [7.91051984e-03],\n",
              "       [7.28867526e-05],\n",
              "       [9.99985456e-01],\n",
              "       [9.98920679e-01],\n",
              "       [8.27853799e-01],\n",
              "       [9.99963760e-01],\n",
              "       [3.79351854e-01],\n",
              "       [9.99985218e-01],\n",
              "       [2.88067258e-05],\n",
              "       [9.99848902e-01],\n",
              "       [2.19801068e-03],\n",
              "       [9.98114705e-01],\n",
              "       [1.01898086e-05],\n",
              "       [1.23607785e-01],\n",
              "       [1.17998421e-02],\n",
              "       [4.90767434e-06],\n",
              "       [1.65278266e-06],\n",
              "       [2.09765732e-01],\n",
              "       [6.28530979e-04]], dtype=float32)"
            ]
          },
          "metadata": {
            "tags": []
          },
          "execution_count": 33
        }
      ]
    }
  ]
}