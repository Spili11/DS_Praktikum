{
  "nbformat": 4,
  "nbformat_minor": 0,
  "metadata": {
    "colab": {
      "name": "Assignment_01.ipynb",
      "provenance": [],
      "collapsed_sections": []
    },
    "kernelspec": {
      "name": "python3",
      "display_name": "Python 3"
    },
    "accelerator": "GPU"
  },
  "cells": [
    {
      "cell_type": "code",
      "metadata": {
        "id": "IwxZUSdzsb2f"
      },
      "source": [
        "#important libraries, Pandas - work with DataFrames, Pyplot - create plots, seaborn - boxplots\n",
        "\n",
        "import pandas as pd\n",
        "import matplotlib.pyplot as plt\n",
        "import seaborn as sns\n"
      ],
      "execution_count": 84,
      "outputs": []
    },
    {
      "cell_type": "code",
      "metadata": {
        "id": "RVmmcpEP30EB"
      },
      "source": [
        "#import dataset\n",
        "df_train = pd.read_csv('/content/drive/My Drive/DS_Praktikum/train.csv')"
      ],
      "execution_count": 85,
      "outputs": []
    },
    {
      "cell_type": "code",
      "metadata": {
        "id": "1MAtQvgTNz_M",
        "outputId": "f254a3c8-97b0-4c01-a5e2-fb1ffc0831d4",
        "colab": {
          "base_uri": "https://localhost:8080/",
          "height": 521
        }
      },
      "source": [
        "print(df_train.shape)\n",
        "#81 columns, 1460 rows\n",
        "\n",
        "#name of the columns\n",
        "print(df_train.columns)\n",
        "\n",
        "#print descriptive statistics of numeric columns of the DF\n",
        "print(df_train.describe())"
      ],
      "execution_count": 86,
      "outputs": [
        {
          "output_type": "stream",
          "text": [
            "(1460, 81)\n",
            "Index(['Id', 'MSSubClass', 'MSZoning', 'LotFrontage', 'LotArea', 'Street',\n",
            "       'Alley', 'LotShape', 'LandContour', 'Utilities', 'LotConfig',\n",
            "       'LandSlope', 'Neighborhood', 'Condition1', 'Condition2', 'BldgType',\n",
            "       'HouseStyle', 'OverallQual', 'OverallCond', 'YearBuilt', 'YearRemodAdd',\n",
            "       'RoofStyle', 'RoofMatl', 'Exterior1st', 'Exterior2nd', 'MasVnrType',\n",
            "       'MasVnrArea', 'ExterQual', 'ExterCond', 'Foundation', 'BsmtQual',\n",
            "       'BsmtCond', 'BsmtExposure', 'BsmtFinType1', 'BsmtFinSF1',\n",
            "       'BsmtFinType2', 'BsmtFinSF2', 'BsmtUnfSF', 'TotalBsmtSF', 'Heating',\n",
            "       'HeatingQC', 'CentralAir', 'Electrical', '1stFlrSF', '2ndFlrSF',\n",
            "       'LowQualFinSF', 'GrLivArea', 'BsmtFullBath', 'BsmtHalfBath', 'FullBath',\n",
            "       'HalfBath', 'BedroomAbvGr', 'KitchenAbvGr', 'KitchenQual',\n",
            "       'TotRmsAbvGrd', 'Functional', 'Fireplaces', 'FireplaceQu', 'GarageType',\n",
            "       'GarageYrBlt', 'GarageFinish', 'GarageCars', 'GarageArea', 'GarageQual',\n",
            "       'GarageCond', 'PavedDrive', 'WoodDeckSF', 'OpenPorchSF',\n",
            "       'EnclosedPorch', '3SsnPorch', 'ScreenPorch', 'PoolArea', 'PoolQC',\n",
            "       'Fence', 'MiscFeature', 'MiscVal', 'MoSold', 'YrSold', 'SaleType',\n",
            "       'SaleCondition', 'SalePrice'],\n",
            "      dtype='object')\n",
            "                Id   MSSubClass  ...       YrSold      SalePrice\n",
            "count  1460.000000  1460.000000  ...  1460.000000    1460.000000\n",
            "mean    730.500000    56.897260  ...  2007.815753  180921.195890\n",
            "std     421.610009    42.300571  ...     1.328095   79442.502883\n",
            "min       1.000000    20.000000  ...  2006.000000   34900.000000\n",
            "25%     365.750000    20.000000  ...  2007.000000  129975.000000\n",
            "50%     730.500000    50.000000  ...  2008.000000  163000.000000\n",
            "75%    1095.250000    70.000000  ...  2009.000000  214000.000000\n",
            "max    1460.000000   190.000000  ...  2010.000000  755000.000000\n",
            "\n",
            "[8 rows x 38 columns]\n"
          ],
          "name": "stdout"
        }
      ]
    },
    {
      "cell_type": "code",
      "metadata": {
        "id": "oRkW67hLPaMS",
        "outputId": "5aab09d1-1d9d-4fb3-941a-0632e6486a55",
        "colab": {
          "base_uri": "https://localhost:8080/",
          "height": 312
        }
      },
      "source": [
        "house_prices = df_train.loc[:, 'SalePrice']\n",
        "#basic histogram of house prices\n",
        "plt.hist(house_prices,rwidth=0.85)\n",
        "plt.grid(axis='y', alpha=0.75)\n",
        "plt.xlabel('House Price')\n",
        "plt.ylabel('Frequency')\n",
        "plt.title('Histogram of House prices')"
      ],
      "execution_count": 87,
      "outputs": [
        {
          "output_type": "execute_result",
          "data": {
            "text/plain": [
              "Text(0.5, 1.0, 'Histogram of House prices')"
            ]
          },
          "metadata": {
            "tags": []
          },
          "execution_count": 87
        },
        {
          "output_type": "display_data",
          "data": {
            "image/png": "[encoded data removed]",
            "text/plain": [
              "<Figure size 432x288 with 1 Axes>"
            ]
          },
          "metadata": {
            "tags": [],
            "needs_background": "light"
          }
        }
      ]
    },
    {
      "cell_type": "code",
      "metadata": {
        "id": "hgoDbUOrStL9",
        "outputId": "05e3e549-6099-4e72-e848-70a11175bf57",
        "colab": {
          "base_uri": "https://localhost:8080/",
          "height": 924
        }
      },
      "source": [
        "corr_matrix = df_train.corr()\n",
        "correlation_salesPrice = corr_matrix['SalePrice']\n",
        "\n",
        "correlation_salesPrice = correlation_salesPrice.sort_values()\n",
        "print(correlation_salesPrice)\n",
        "\n",
        "#take some columns with the biggest corelation between SalesPrice and itselfs\n",
        "#GarageCars, GrLiveArea, TotalBsmtSF, OverallQual\n",
        "new_columns = ['GarageCars', 'GrLivArea', 'TotalBsmtSF', 'OverallQual', 'SalePrice']\n",
        "df_train_new = df_train[new_columns]\n",
        "\n",
        "#correlation coefficients between variables are not smale, it is not good use only them for any fitting and modelling, but it is enough for basic exploratory analysis and 1st HW\n",
        "print(df_train_new.corr())\n",
        "\n",
        "#print descriptive statistics of numeric columns of the new DF\n",
        "print(df_train_new.describe())"
      ],
      "execution_count": 88,
      "outputs": [
        {
          "output_type": "stream",
          "text": [
            "KitchenAbvGr    -0.135907\n",
            "EnclosedPorch   -0.128578\n",
            "MSSubClass      -0.084284\n",
            "OverallCond     -0.077856\n",
            "YrSold          -0.028923\n",
            "LowQualFinSF    -0.025606\n",
            "Id              -0.021917\n",
            "MiscVal         -0.021190\n",
            "BsmtHalfBath    -0.016844\n",
            "BsmtFinSF2      -0.011378\n",
            "3SsnPorch        0.044584\n",
            "MoSold           0.046432\n",
            "PoolArea         0.092404\n",
            "ScreenPorch      0.111447\n",
            "BedroomAbvGr     0.168213\n",
            "BsmtUnfSF        0.214479\n",
            "BsmtFullBath     0.227122\n",
            "LotArea          0.263843\n",
            "HalfBath         0.284108\n",
            "OpenPorchSF      0.315856\n",
            "2ndFlrSF         0.319334\n",
            "WoodDeckSF       0.324413\n",
            "LotFrontage      0.351799\n",
            "BsmtFinSF1       0.386420\n",
            "Fireplaces       0.466929\n",
            "MasVnrArea       0.477493\n",
            "GarageYrBlt      0.486362\n",
            "YearRemodAdd     0.507101\n",
            "YearBuilt        0.522897\n",
            "TotRmsAbvGrd     0.533723\n",
            "FullBath         0.560664\n",
            "1stFlrSF         0.605852\n",
            "TotalBsmtSF      0.613581\n",
            "GarageArea       0.623431\n",
            "GarageCars       0.640409\n",
            "GrLivArea        0.708624\n",
            "OverallQual      0.790982\n",
            "SalePrice        1.000000\n",
            "Name: SalePrice, dtype: float64\n",
            "             GarageCars  GrLivArea  TotalBsmtSF  OverallQual  SalePrice\n",
            "GarageCars     1.000000   0.467247     0.434585     0.600671   0.640409\n",
            "GrLivArea      0.467247   1.000000     0.454868     0.593007   0.708624\n",
            "TotalBsmtSF    0.434585   0.454868     1.000000     0.537808   0.613581\n",
            "OverallQual    0.600671   0.593007     0.537808     1.000000   0.790982\n",
            "SalePrice      0.640409   0.708624     0.613581     0.790982   1.000000\n",
            "        GarageCars    GrLivArea  TotalBsmtSF  OverallQual      SalePrice\n",
            "count  1460.000000  1460.000000  1460.000000  1460.000000    1460.000000\n",
            "mean      1.767123  1515.463699  1057.429452     6.099315  180921.195890\n",
            "std       0.747315   525.480383   438.705324     1.382997   79442.502883\n",
            "min       0.000000   334.000000     0.000000     1.000000   34900.000000\n",
            "25%       1.000000  1129.500000   795.750000     5.000000  129975.000000\n",
            "50%       2.000000  1464.000000   991.500000     6.000000  163000.000000\n",
            "75%       2.000000  1776.750000  1298.250000     7.000000  214000.000000\n",
            "max       4.000000  5642.000000  6110.000000    10.000000  755000.000000\n"
          ],
          "name": "stdout"
        }
      ]
    },
    {
      "cell_type": "code",
      "metadata": {
        "id": "kt3-NU-JaR1z",
        "outputId": "387c8663-f3d8-4834-8fa7-da08a70bd880",
        "colab": {
          "base_uri": "https://localhost:8080/",
          "height": 350
        }
      },
      "source": [
        "#basic boxplot for GarageCars\n",
        "sns.boxplot(df_train_new.loc[:, 'GarageCars'], df_train_new.loc[:,'SalePrice'])"
      ],
      "execution_count": 89,
      "outputs": [
        {
          "output_type": "stream",
          "text": [
            "/usr/local/lib/python3.6/dist-packages/seaborn/_decorators.py:43: FutureWarning: Pass the following variables as keyword args: x, y. From version 0.12, the only valid positional argument will be `data`, and passing other arguments without an explicit keyword will result in an error or misinterpretation.\n",
            "  FutureWarning\n"
          ],
          "name": "stderr"
        },
        {
          "output_type": "execute_result",
          "data": {
            "text/plain": [
              "<matplotlib.axes._subplots.AxesSubplot at 0x7f39be7eae48>"
            ]
          },
          "metadata": {
            "tags": []
          },
          "execution_count": 89
        },
        {
          "output_type": "display_data",
          "data": {
            "image/png": "[encoded data removed]",
            "text/plain": [
              "<Figure size 432x288 with 1 Axes>"
            ]
          },
          "metadata": {
            "tags": [],
            "needs_background": "light"
          }
        }
      ]
    },
    {
      "cell_type": "code",
      "metadata": {
        "id": "LHQC62pCdtLH",
        "outputId": "cb05e77a-a097-4d0b-b646-8395b00f23be",
        "colab": {
          "base_uri": "https://localhost:8080/",
          "height": 350
        }
      },
      "source": [
        "#basic boxplot for OverallQual\n",
        "sns.boxplot(df_train_new.loc[:, 'OverallQual'], df_train_new.loc[:,'SalePrice'])"
      ],
      "execution_count": 90,
      "outputs": [
        {
          "output_type": "stream",
          "text": [
            "/usr/local/lib/python3.6/dist-packages/seaborn/_decorators.py:43: FutureWarning: Pass the following variables as keyword args: x, y. From version 0.12, the only valid positional argument will be `data`, and passing other arguments without an explicit keyword will result in an error or misinterpretation.\n",
            "  FutureWarning\n"
          ],
          "name": "stderr"
        },
        {
          "output_type": "execute_result",
          "data": {
            "text/plain": [
              "<matplotlib.axes._subplots.AxesSubplot at 0x7f39be7170f0>"
            ]
          },
          "metadata": {
            "tags": []
          },
          "execution_count": 90
        },
        {
          "output_type": "display_data",
          "data": {
            "image/png": "[encoded data removed]",
            "text/plain": [
              "<Figure size 432x288 with 1 Axes>"
            ]
          },
          "metadata": {
            "tags": [],
            "needs_background": "light"
          }
        }
      ]
    },
    {
      "cell_type": "code",
      "metadata": {
        "id": "CiV8Uni_a4tI",
        "outputId": "20907cdd-7dd7-429e-b4ee-d6914dd328c7",
        "colab": {
          "base_uri": "https://localhost:8080/",
          "height": 282
        }
      },
      "source": [
        "#basic scatter plot for GrLiveArea\n",
        "plt.scatter(df_train_new.loc[:, 'GrLivArea'], df_train_new.loc[:,'SalePrice'])"
      ],
      "execution_count": 91,
      "outputs": [
        {
          "output_type": "execute_result",
          "data": {
            "text/plain": [
              "<matplotlib.collections.PathCollection at 0x7f39be610080>"
            ]
          },
          "metadata": {
            "tags": []
          },
          "execution_count": 91
        },
        {
          "output_type": "display_data",
          "data": {
            "image/png": "[encoded data removed]",
            "text/plain": [
              "<Figure size 432x288 with 1 Axes>"
            ]
          },
          "metadata": {
            "tags": [],
            "needs_background": "light"
          }
        }
      ]
    },
    {
      "cell_type": "code",
      "metadata": {
        "id": "j8QT93oYeBo2",
        "outputId": "b732f344-fd65-49d6-d465-426593824ec7",
        "colab": {
          "base_uri": "https://localhost:8080/",
          "height": 282
        }
      },
      "source": [
        "#basic boxplot for TotalBsmtSF\n",
        "plt.scatter(df_train_new.loc[:, 'TotalBsmtSF'], df_train_new.loc[:,'SalePrice'])"
      ],
      "execution_count": 92,
      "outputs": [
        {
          "output_type": "execute_result",
          "data": {
            "text/plain": [
              "<matplotlib.collections.PathCollection at 0x7f39be5ec5c0>"
            ]
          },
          "metadata": {
            "tags": []
          },
          "execution_count": 92
        },
        {
          "output_type": "display_data",
          "data": {
            "image/png": "[encoded data removed]",
            "text/plain": [
              "<Figure size 432x288 with 1 Axes>"
            ]
          },
          "metadata": {
            "tags": [],
            "needs_background": "light"
          }
        }
      ]
    }
  ]
}