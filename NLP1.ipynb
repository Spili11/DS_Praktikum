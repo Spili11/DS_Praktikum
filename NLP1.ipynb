{
  "nbformat": 4,
  "nbformat_minor": 0,
  "metadata": {
    "colab": {
      "name": "NLP1.ipynb",
      "provenance": [],
      "collapsed_sections": [],
      "mount_file_id": "1rnIPFr9YXtMt8DVmYu00IgQ4_tzYTDcH",
      "authorship_tag": "ABX9TyPtB4jzJ3Qt1WQYsOoV9pQS",
      "include_colab_link": true
    },
    "kernelspec": {
      "name": "python3",
      "display_name": "Python 3"
    },
    "accelerator": "GPU"
  },
  "cells": [
    {
      "cell_type": "markdown",
      "metadata": {
        "id": "view-in-github",
        "colab_type": "text"
      },
      "source": [
        "<a href=\"https://colab.research.google.com/github/Spili11/DS_Praktikum/blob/main/NLP1.ipynb\" target=\"_parent\"><img src=\"https://colab.research.google.com/assets/colab-badge.svg\" alt=\"Open In Colab\"/></a>"
      ]
    },
    {
      "cell_type": "code",
      "metadata": {
        "id": "H0YTWn5Yd13O"
      },
      "source": [
        "import tensorflow as tf\n",
        "import numpy as np\n",
        "from tensorflow import keras\n",
        "from tensorflow.keras.preprocessing.text import Tokenizer\n",
        "from tensorflow.keras.preprocessing.sequence import pad_sequences\n",
        "from tensorflow.keras.layers import Embedding, LSTM, Dense, Bidirectional\n",
        "from tensorflow.keras.models import Sequential\n",
        "from tensorflow.keras.optimizers import Adam\n",
        "import re\n"
      ],
      "execution_count": 1,
      "outputs": []
    },
    {
      "cell_type": "code",
      "metadata": {
        "id": "QxQxyztGAHLK"
      },
      "source": [
        "tokenizer = Tokenizer()\n",
        "path = '/content/drive/MyDrive/DS_Praktikum/text_ML2.txt'\n",
        "file = open(path, \"r\")\n",
        "data = file.read()\n",
        "file.close()\n",
        "\n",
        "path = '/content/drive/MyDrive/DS_Praktikum/Babis.txt'\n",
        "file = open(path, \"r\")\n",
        "data_1 = file.read()\n",
        "file.close()\n",
        "\n",
        "data += data_1"
      ],
      "execution_count": 11,
      "outputs": []
    },
    {
      "cell_type": "code",
      "metadata": {
        "id": "dEmGXBZcAg4Q"
      },
      "source": [
        "data = data.replace('\\n', \"\").replace('. ', '.')\n",
        "m = re.search('\\.[A-Z]', data)\n",
        "while m:\n",
        "  position = m.span()[0]\n",
        "  data = data[:position] + \"&\" + data[position + 1 :]\n",
        "  m = re.search('\\.[A-Z]', data)\n",
        "corpus = data.lower().split('&')"
      ],
      "execution_count": 13,
      "outputs": []
    },
    {
      "cell_type": "code",
      "metadata": {
        "id": "qwqNt523A144"
      },
      "source": [
        "tokenizer.fit_on_texts(corpus)\n",
        "total_words = len(tokenizer.word_index) + 1"
      ],
      "execution_count": 14,
      "outputs": []
    },
    {
      "cell_type": "code",
      "metadata": {
        "id": "h_98_GVpCFBC"
      },
      "source": [
        "input_sequences = []\n",
        "for line in corpus:\n",
        "  token_list = tokenizer.texts_to_sequences([line])[0]\n",
        "  for i in range(1, len(token_list)):\n",
        "    n_gram_sequence = token_list[:i + 1]\n",
        "    input_sequences.append(n_gram_sequence)"
      ],
      "execution_count": 15,
      "outputs": []
    },
    {
      "cell_type": "code",
      "metadata": {
        "id": "DKmaQBFwDDVd"
      },
      "source": [
        "max_sequence_len = max([len(x) for x in input_sequences])\n",
        "input_sequences = np.array(pad_sequences(input_sequences, maxlen = max_sequence_len, padding = 'pre'))"
      ],
      "execution_count": 16,
      "outputs": []
    },
    {
      "cell_type": "code",
      "metadata": {
        "id": "pB51LpHXD2zz"
      },
      "source": [
        "xs = input_sequences[:, :-1]\n",
        "labels = input_sequences[:, -1]\n",
        "ys = tf.keras.utils.to_categorical(labels, num_classes = total_words)"
      ],
      "execution_count": 17,
      "outputs": []
    },
    {
      "cell_type": "code",
      "metadata": {
        "colab": {
          "base_uri": "https://localhost:8080/"
        },
        "id": "rNOq2NdAEIFp",
        "outputId": "0a91bdf8-1b9c-483e-df5c-d40ad8b8cdc7"
      },
      "source": [
        "model = Sequential()\n",
        "model.add(Embedding(total_words, 100, input_length=max_sequence_len-1))\n",
        "#model.add(Bidirectional(LSTM(128, return_sequences=True)))\n",
        "model.add(Bidirectional(LSTM(64)))\n",
        "model.add(Dense(total_words, activation='softmax'))\n",
        "adam = Adam(lr=0.01)\n",
        "model.compile(loss='categorical_crossentropy', optimizer=adam, metrics=['accuracy'])\n",
        "#earlystop = EarlyStopping(monitor='val_loss', min_delta=0, patience=5, verbose=0, mode='auto')\n",
        "history = model.fit(xs, ys, epochs=100, verbose=1)\n",
        "#print model.summary()\n",
        "print(model)\n"
      ],
      "execution_count": 26,
      "outputs": [
        {
          "output_type": "stream",
          "text": [
            "Epoch 1/100\n",
            "628/628 [==============================] - 11s 18ms/step - loss: 6.9704 - accuracy: 0.0637\n",
            "Epoch 2/100\n",
            "628/628 [==============================] - 11s 18ms/step - loss: 5.7508 - accuracy: 0.1303\n",
            "Epoch 3/100\n",
            "628/628 [==============================] - 11s 18ms/step - loss: 4.6950 - accuracy: 0.1988\n",
            "Epoch 4/100\n",
            "628/628 [==============================] - 12s 19ms/step - loss: 3.1155 - accuracy: 0.3535\n",
            "Epoch 6/100\n",
            "628/628 [==============================] - 11s 18ms/step - loss: 2.5956 - accuracy: 0.4355\n",
            "Epoch 7/100\n",
            "628/628 [==============================] - 11s 18ms/step - loss: 2.2149 - accuracy: 0.4987\n",
            "Epoch 8/100\n",
            "628/628 [==============================] - 11s 18ms/step - loss: 1.9882 - accuracy: 0.5413\n",
            "Epoch 9/100\n",
            "628/628 [==============================] - 11s 18ms/step - loss: 1.8111 - accuracy: 0.5744\n",
            "Epoch 10/100\n",
            "628/628 [==============================] - 11s 18ms/step - loss: 1.6569 - accuracy: 0.6065\n",
            "Epoch 11/100\n",
            "628/628 [==============================] - 11s 18ms/step - loss: 1.5311 - accuracy: 0.6334\n",
            "Epoch 12/100\n",
            "628/628 [==============================] - 11s 18ms/step - loss: 1.4329 - accuracy: 0.6487\n",
            "Epoch 13/100\n",
            "628/628 [==============================] - 11s 18ms/step - loss: 1.3812 - accuracy: 0.6611\n",
            "Epoch 14/100\n",
            "628/628 [==============================] - 11s 18ms/step - loss: 1.3403 - accuracy: 0.6662\n",
            "Epoch 15/100\n",
            "628/628 [==============================] - 11s 18ms/step - loss: 1.3095 - accuracy: 0.6707\n",
            "Epoch 16/100\n",
            "628/628 [==============================] - 11s 18ms/step - loss: 1.2278 - accuracy: 0.6896\n",
            "Epoch 17/100\n",
            "628/628 [==============================] - 11s 18ms/step - loss: 1.2188 - accuracy: 0.6894\n",
            "Epoch 18/100\n",
            "628/628 [==============================] - 11s 18ms/step - loss: 1.1837 - accuracy: 0.6978\n",
            "Epoch 19/100\n",
            "628/628 [==============================] - 11s 18ms/step - loss: 1.1609 - accuracy: 0.7047\n",
            "Epoch 20/100\n",
            "628/628 [==============================] - 11s 18ms/step - loss: 1.1379 - accuracy: 0.7064\n",
            "Epoch 21/100\n",
            "628/628 [==============================] - 11s 18ms/step - loss: 1.1077 - accuracy: 0.7153\n",
            "Epoch 22/100\n",
            "628/628 [==============================] - 11s 18ms/step - loss: 1.0797 - accuracy: 0.7202\n",
            "Epoch 23/100\n",
            "628/628 [==============================] - 11s 18ms/step - loss: 1.0760 - accuracy: 0.7194\n",
            "Epoch 24/100\n",
            "628/628 [==============================] - 11s 18ms/step - loss: 1.0955 - accuracy: 0.7168\n",
            "Epoch 25/100\n",
            "628/628 [==============================] - 11s 18ms/step - loss: 1.1369 - accuracy: 0.7057\n",
            "Epoch 26/100\n",
            "628/628 [==============================] - 11s 18ms/step - loss: 1.1516 - accuracy: 0.7043\n",
            "Epoch 27/100\n",
            "628/628 [==============================] - 11s 18ms/step - loss: 1.0877 - accuracy: 0.7152\n",
            "Epoch 28/100\n",
            "628/628 [==============================] - 11s 18ms/step - loss: 1.0267 - accuracy: 0.7312\n",
            "Epoch 29/100\n",
            "628/628 [==============================] - 11s 18ms/step - loss: 1.0437 - accuracy: 0.7279\n",
            "Epoch 30/100\n",
            "628/628 [==============================] - 12s 19ms/step - loss: 1.0401 - accuracy: 0.7289\n",
            "Epoch 31/100\n",
            "628/628 [==============================] - 12s 19ms/step - loss: 1.0257 - accuracy: 0.7328\n",
            "Epoch 32/100\n",
            "628/628 [==============================] - 12s 19ms/step - loss: 1.0379 - accuracy: 0.7308\n",
            "Epoch 33/100\n",
            "628/628 [==============================] - 11s 18ms/step - loss: 1.0274 - accuracy: 0.7282\n",
            "Epoch 34/100\n",
            "628/628 [==============================] - 11s 18ms/step - loss: 0.9921 - accuracy: 0.7396\n",
            "Epoch 35/100\n",
            "628/628 [==============================] - 11s 18ms/step - loss: 1.0033 - accuracy: 0.7325\n",
            "Epoch 36/100\n",
            "628/628 [==============================] - 11s 18ms/step - loss: 1.0196 - accuracy: 0.7309\n",
            "Epoch 37/100\n",
            "628/628 [==============================] - 11s 18ms/step - loss: 1.0414 - accuracy: 0.7246\n",
            "Epoch 38/100\n",
            "628/628 [==============================] - 11s 18ms/step - loss: 1.0472 - accuracy: 0.7242\n",
            "Epoch 39/100\n",
            "628/628 [==============================] - 11s 18ms/step - loss: 0.9997 - accuracy: 0.7358\n",
            "Epoch 40/100\n",
            "628/628 [==============================] - 12s 18ms/step - loss: 0.9947 - accuracy: 0.7388\n",
            "Epoch 41/100\n",
            "628/628 [==============================] - 11s 18ms/step - loss: 0.9939 - accuracy: 0.7385\n",
            "Epoch 42/100\n",
            "628/628 [==============================] - 12s 18ms/step - loss: 0.9718 - accuracy: 0.7407\n",
            "Epoch 43/100\n",
            "628/628 [==============================] - 12s 18ms/step - loss: 1.0012 - accuracy: 0.7336\n",
            "Epoch 44/100\n",
            "628/628 [==============================] - 12s 19ms/step - loss: 1.0064 - accuracy: 0.7371\n",
            "Epoch 45/100\n",
            "628/628 [==============================] - 12s 19ms/step - loss: 0.9820 - accuracy: 0.7424\n",
            "Epoch 46/100\n",
            "628/628 [==============================] - 12s 19ms/step - loss: 1.0056 - accuracy: 0.7371\n",
            "Epoch 47/100\n",
            "628/628 [==============================] - 12s 19ms/step - loss: 1.0514 - accuracy: 0.7220\n",
            "Epoch 48/100\n",
            "628/628 [==============================] - 12s 19ms/step - loss: 1.0109 - accuracy: 0.7357\n",
            "Epoch 49/100\n",
            "628/628 [==============================] - 12s 19ms/step - loss: 0.9780 - accuracy: 0.7403\n",
            "Epoch 50/100\n",
            "628/628 [==============================] - 12s 19ms/step - loss: 0.9860 - accuracy: 0.7395\n",
            "Epoch 51/100\n",
            "628/628 [==============================] - 12s 19ms/step - loss: 0.9798 - accuracy: 0.7411\n",
            "Epoch 52/100\n",
            "628/628 [==============================] - 12s 19ms/step - loss: 0.9698 - accuracy: 0.7466\n",
            "Epoch 53/100\n",
            "628/628 [==============================] - 12s 19ms/step - loss: 0.9826 - accuracy: 0.7392\n",
            "Epoch 54/100\n",
            "628/628 [==============================] - 12s 19ms/step - loss: 0.9323 - accuracy: 0.7531\n",
            "Epoch 55/100\n",
            "628/628 [==============================] - 12s 19ms/step - loss: 0.9307 - accuracy: 0.7533\n",
            "Epoch 56/100\n",
            "628/628 [==============================] - 12s 19ms/step - loss: 0.9790 - accuracy: 0.7428\n",
            "Epoch 57/100\n",
            "628/628 [==============================] - 12s 19ms/step - loss: 1.0556 - accuracy: 0.7275\n",
            "Epoch 58/100\n",
            "628/628 [==============================] - 12s 19ms/step - loss: 1.0248 - accuracy: 0.7340\n",
            "Epoch 59/100\n",
            "628/628 [==============================] - 12s 19ms/step - loss: 1.0039 - accuracy: 0.7366\n",
            "Epoch 60/100\n",
            "628/628 [==============================] - 12s 19ms/step - loss: 0.9950 - accuracy: 0.7391\n",
            "Epoch 61/100\n",
            "628/628 [==============================] - 12s 19ms/step - loss: 0.9550 - accuracy: 0.7487\n",
            "Epoch 62/100\n",
            "628/628 [==============================] - 12s 19ms/step - loss: 0.9362 - accuracy: 0.7503\n",
            "Epoch 63/100\n",
            "628/628 [==============================] - 12s 19ms/step - loss: 0.9268 - accuracy: 0.7554\n",
            "Epoch 64/100\n",
            "628/628 [==============================] - 12s 19ms/step - loss: 0.9242 - accuracy: 0.7577\n",
            "Epoch 65/100\n",
            "628/628 [==============================] - 12s 19ms/step - loss: 0.9105 - accuracy: 0.7589\n",
            "Epoch 66/100\n",
            "628/628 [==============================] - 12s 19ms/step - loss: 0.9331 - accuracy: 0.7516\n",
            "Epoch 67/100\n",
            "628/628 [==============================] - 12s 19ms/step - loss: 0.9383 - accuracy: 0.7492\n",
            "Epoch 68/100\n",
            "628/628 [==============================] - 12s 19ms/step - loss: 0.9632 - accuracy: 0.7420\n",
            "Epoch 69/100\n",
            "628/628 [==============================] - 12s 19ms/step - loss: 0.9783 - accuracy: 0.7393\n",
            "Epoch 70/100\n",
            "628/628 [==============================] - 12s 19ms/step - loss: 0.9676 - accuracy: 0.7425\n",
            "Epoch 71/100\n",
            "628/628 [==============================] - 12s 19ms/step - loss: 0.9290 - accuracy: 0.7521\n",
            "Epoch 72/100\n",
            "628/628 [==============================] - 12s 19ms/step - loss: 0.9231 - accuracy: 0.7529\n",
            "Epoch 73/100\n",
            "628/628 [==============================] - 12s 19ms/step - loss: 0.9253 - accuracy: 0.7531\n",
            "Epoch 74/100\n",
            "628/628 [==============================] - 12s 19ms/step - loss: 0.9158 - accuracy: 0.7577\n",
            "Epoch 75/100\n",
            "628/628 [==============================] - 12s 19ms/step - loss: 0.9262 - accuracy: 0.7523\n",
            "Epoch 76/100\n",
            "628/628 [==============================] - 12s 19ms/step - loss: 0.9397 - accuracy: 0.7534\n",
            "Epoch 77/100\n",
            "628/628 [==============================] - 12s 19ms/step - loss: 0.9506 - accuracy: 0.7465\n",
            "Epoch 78/100\n",
            "628/628 [==============================] - 12s 19ms/step - loss: 0.9461 - accuracy: 0.7481\n",
            "Epoch 79/100\n",
            "628/628 [==============================] - 12s 19ms/step - loss: 0.9115 - accuracy: 0.7574\n",
            "Epoch 80/100\n",
            "628/628 [==============================] - 12s 19ms/step - loss: 0.8877 - accuracy: 0.7596\n",
            "Epoch 81/100\n",
            "628/628 [==============================] - 12s 19ms/step - loss: 0.8715 - accuracy: 0.7675\n",
            "Epoch 82/100\n",
            "628/628 [==============================] - 12s 19ms/step - loss: 0.8829 - accuracy: 0.7648\n",
            "Epoch 83/100\n",
            "628/628 [==============================] - 12s 19ms/step - loss: 0.9439 - accuracy: 0.7498\n",
            "Epoch 84/100\n",
            "628/628 [==============================] - 12s 19ms/step - loss: 0.9566 - accuracy: 0.7479\n",
            "Epoch 85/100\n",
            "628/628 [==============================] - 12s 19ms/step - loss: 0.9316 - accuracy: 0.7500\n",
            "Epoch 86/100\n",
            "628/628 [==============================] - 12s 19ms/step - loss: 0.9141 - accuracy: 0.7562\n",
            "Epoch 87/100\n",
            "628/628 [==============================] - 12s 19ms/step - loss: 0.9204 - accuracy: 0.7561\n",
            "Epoch 88/100\n",
            "628/628 [==============================] - 12s 19ms/step - loss: 0.9181 - accuracy: 0.7543\n",
            "Epoch 89/100\n",
            "628/628 [==============================] - 12s 19ms/step - loss: 0.9238 - accuracy: 0.7547\n",
            "Epoch 90/100\n",
            "628/628 [==============================] - 12s 19ms/step - loss: 0.9324 - accuracy: 0.7527\n",
            "Epoch 91/100\n",
            "628/628 [==============================] - 12s 19ms/step - loss: 0.9411 - accuracy: 0.7486\n",
            "Epoch 92/100\n",
            "628/628 [==============================] - 12s 19ms/step - loss: 0.9162 - accuracy: 0.7563\n",
            "Epoch 93/100\n",
            "628/628 [==============================] - 12s 19ms/step - loss: 0.9128 - accuracy: 0.7558\n",
            "Epoch 94/100\n",
            "628/628 [==============================] - 12s 19ms/step - loss: 0.9058 - accuracy: 0.7586\n",
            "Epoch 95/100\n",
            "628/628 [==============================] - 12s 19ms/step - loss: 0.9117 - accuracy: 0.7581\n",
            "Epoch 96/100\n",
            "628/628 [==============================] - 12s 19ms/step - loss: 0.9173 - accuracy: 0.7546\n",
            "Epoch 97/100\n",
            "628/628 [==============================] - 12s 19ms/step - loss: 0.8873 - accuracy: 0.7660\n",
            "Epoch 98/100\n",
            "628/628 [==============================] - 12s 19ms/step - loss: 0.9167 - accuracy: 0.7564\n",
            "Epoch 99/100\n",
            "628/628 [==============================] - 12s 19ms/step - loss: 0.9002 - accuracy: 0.7601\n",
            "Epoch 100/100\n",
            "628/628 [==============================] - 12s 19ms/step - loss: 0.9015 - accuracy: 0.7612\n",
            "<tensorflow.python.keras.engine.sequential.Sequential object at 0x7f3993d0b358>\n"
          ],
          "name": "stdout"
        }
      ]
    },
    {
      "cell_type": "code",
      "metadata": {
        "id": "B9sNQAkeE5L7"
      },
      "source": [
        "import matplotlib.pyplot as plt\n",
        "\n",
        "\n",
        "def plot_graphs(history, string):\n",
        "  plt.plot(history.history[string])\n",
        "  plt.xlabel(\"Epochs\")\n",
        "  plt.ylabel(string)\n",
        "  plt.show()"
      ],
      "execution_count": 27,
      "outputs": []
    },
    {
      "cell_type": "code",
      "metadata": {
        "colab": {
          "base_uri": "https://localhost:8080/",
          "height": 283
        },
        "id": "nbEnPx1OE7EC",
        "outputId": "57803208-d53f-4009-882b-d09b42e748db"
      },
      "source": [
        "plot_graphs(history, 'accuracy')"
      ],
      "execution_count": 28,
      "outputs": [
        {
          "output_type": "display_data",
          "data": {
            "image/png": "[encoded data removed]",
            "text/plain": [
              "<Figure size 432x288 with 1 Axes>"
            ]
          },
          "metadata": {
            "tags": [],
            "needs_background": "light"
          }
        }
      ]
    },
    {
      "cell_type": "code",
      "metadata": {
        "colab": {
          "base_uri": "https://localhost:8080/"
        },
        "id": "dVxtEZIJFJDp",
        "outputId": "4b76b85f-61bb-4bdf-ec1f-ceeafd9f23a6"
      },
      "source": [
        "seed_text = \"Dámy a pánove, sešli jsme se tu\"\n",
        "next_words = 100\n",
        "  \n",
        "for _ in range(next_words):\n",
        "\ttoken_list = tokenizer.texts_to_sequences([seed_text])[0]\n",
        "\ttoken_list = pad_sequences([token_list], maxlen=max_sequence_len-1, padding='pre')\n",
        "\tpredicted = model.predict_classes(token_list, verbose=0)\n",
        "\toutput_word = \"\"\n",
        "\tfor word, index in tokenizer.word_index.items():\n",
        "\t\tif index == predicted:\n",
        "\t\t\toutput_word = word\n",
        "\t\t\tbreak\n",
        "\tseed_text += \" \" + output_word\n",
        "print(seed_text)"
      ],
      "execution_count": 29,
      "outputs": [
        {
          "output_type": "stream",
          "text": [
            "Dámy a pánove, sešli jsme se tu důležité vůči byl už s trvalým nebo přechodným pobytem nad 90 dnů na území čr vycestovat z území čr to neplatí je li z vietnamu které jsme měli lidi šli jsme o tom jednali s maloobchodními řetězci a sociálních vámi i do 3 listopadu v pohybu našich občanů a dodržování různých nařízení ale jak jsem už vícekrát na to odpověděl a my děláme pro to abychom zabránili šíření koronaviru a pro lidi maximum pro to bylo to samozřejmě nesmysl byla všem takhle technologie na to jsem již za první vlny protože ještě jednou nakonec vláda rozhodla protože je dobře že\n"
          ],
          "name": "stdout"
        }
      ]
    }
  ]
}