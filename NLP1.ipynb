{
  "nbformat": 4,
  "nbformat_minor": 0,
  "metadata": {
    "colab": {
      "name": "NLP1.ipynb",
      "provenance": [],
      "collapsed_sections": [],
      "toc_visible": true,
      "mount_file_id": "1rnIPFr9YXtMt8DVmYu00IgQ4_tzYTDcH",
      "authorship_tag": "ABX9TyO9ePgJ4D7mClrqMgvU5U09",
      "include_colab_link": true
    },
    "kernelspec": {
      "name": "python3",
      "display_name": "Python 3"
    },
    "accelerator": "GPU"
  },
  "cells": [
    {
      "cell_type": "markdown",
      "metadata": {
        "id": "view-in-github",
        "colab_type": "text"
      },
      "source": [
        "<a href=\"https://colab.research.google.com/github/Spili11/DS_Praktikum/blob/main/NLP1.ipynb\" target=\"_parent\"><img src=\"https://colab.research.google.com/assets/colab-badge.svg\" alt=\"Open In Colab\"/></a>"
      ]
    },
    {
      "cell_type": "code",
      "metadata": {
        "id": "H0YTWn5Yd13O"
      },
      "source": [
        "import tensorflow as tf\n",
        "import numpy as np\n",
        "from tensorflow import keras\n",
        "from tensorflow.keras.preprocessing.text import Tokenizer\n",
        "from tensorflow.keras.preprocessing.sequence import pad_sequences\n",
        "from tensorflow.keras.layers import Embedding, LSTM, Dense, Bidirectional\n",
        "from tensorflow.keras.models import Sequential\n",
        "from tensorflow.keras.optimizers import Adam\n"
      ],
      "execution_count": 40,
      "outputs": []
    },
    {
      "cell_type": "code",
      "metadata": {
        "id": "QxQxyztGAHLK"
      },
      "source": [
        "tokenizer = Tokenizer()\n",
        "path = '/content/drive/MyDrive/Colab Notebooks/AB.txt'\n",
        "file = open(path, \"r\")\n",
        "data = file.read()\n"
      ],
      "execution_count": 5,
      "outputs": []
    },
    {
      "cell_type": "code",
      "metadata": {
        "id": "dEmGXBZcAg4Q"
      },
      "source": [
        "data = data.replace('\\n', \"\").replace('. ', '.')\n",
        "corpus = data.lower().split('.')"
      ],
      "execution_count": 12,
      "outputs": []
    },
    {
      "cell_type": "code",
      "metadata": {
        "id": "qwqNt523A144"
      },
      "source": [
        "tokenizer.fit_on_texts(corpus)\n",
        "total_words = len(tokenizer.word_index) + 1"
      ],
      "execution_count": 32,
      "outputs": []
    },
    {
      "cell_type": "code",
      "metadata": {
        "id": "h_98_GVpCFBC"
      },
      "source": [
        "input_sequences = []\n",
        "for line in corpus:\n",
        "  token_list = tokenizer.texts_to_sequences([line])[0]\n",
        "  for i in range(1, len(token_list)):\n",
        "    n_gram_sequence = token_list[:i + 1]\n",
        "    input_sequences.append(n_gram_sequence)"
      ],
      "execution_count": 34,
      "outputs": []
    },
    {
      "cell_type": "code",
      "metadata": {
        "id": "DKmaQBFwDDVd"
      },
      "source": [
        "max_sequence_len = max([len(x) for x in input_sequences])\n",
        "input_sequences = np.array(pad_sequences(input_sequences, maxlen = max_sequence_len, padding = 'pre'))"
      ],
      "execution_count": 36,
      "outputs": []
    },
    {
      "cell_type": "code",
      "metadata": {
        "id": "pB51LpHXD2zz"
      },
      "source": [
        "xs = input_sequences[:, :-1]\n",
        "labels = input_sequences[:, -1]\n",
        "ys = tf.keras.utils.to_categorical(labels, num_classes = total_words)"
      ],
      "execution_count": 38,
      "outputs": []
    },
    {
      "cell_type": "code",
      "metadata": {
        "colab": {
          "base_uri": "https://localhost:8080/"
        },
        "id": "rNOq2NdAEIFp",
        "outputId": "5b92f82a-347d-4dba-e886-f4c9ad752183"
      },
      "source": [
        "model = Sequential()\n",
        "model.add(Embedding(total_words, 100, input_length=max_sequence_len-1))\n",
        "model.add(Bidirectional(LSTM(150)))\n",
        "model.add(Dense(total_words, activation='softmax'))\n",
        "adam = Adam(lr=0.01)\n",
        "model.compile(loss='categorical_crossentropy', optimizer=adam, metrics=['accuracy'])\n",
        "#earlystop = EarlyStopping(monitor='val_loss', min_delta=0, patience=5, verbose=0, mode='auto')\n",
        "history = model.fit(xs, ys, epochs=100, verbose=1)\n",
        "#print model.summary()\n",
        "print(model)\n"
      ],
      "execution_count": 41,
      "outputs": [
        {
          "output_type": "stream",
          "text": [
            "Epoch 1/100\n",
            "15/15 [==============================] - 0s 13ms/step - loss: 5.5843 - accuracy: 0.0352\n",
            "Epoch 2/100\n",
            "15/15 [==============================] - 0s 12ms/step - loss: 5.3022 - accuracy: 0.0529\n",
            "Epoch 3/100\n",
            "15/15 [==============================] - 0s 11ms/step - loss: 4.8869 - accuracy: 0.0705\n",
            "Epoch 4/100\n",
            "15/15 [==============================] - 0s 11ms/step - loss: 4.3436 - accuracy: 0.0815\n",
            "Epoch 5/100\n",
            "15/15 [==============================] - 0s 11ms/step - loss: 3.5225 - accuracy: 0.1872\n",
            "Epoch 6/100\n",
            "15/15 [==============================] - 0s 11ms/step - loss: 2.5787 - accuracy: 0.3458\n",
            "Epoch 7/100\n",
            "15/15 [==============================] - 0s 12ms/step - loss: 1.7492 - accuracy: 0.5396\n",
            "Epoch 8/100\n",
            "15/15 [==============================] - 0s 11ms/step - loss: 1.0774 - accuracy: 0.7489\n",
            "Epoch 9/100\n",
            "15/15 [==============================] - 0s 11ms/step - loss: 0.8288 - accuracy: 0.7952\n",
            "Epoch 10/100\n",
            "15/15 [==============================] - 0s 11ms/step - loss: 0.6386 - accuracy: 0.8480\n",
            "Epoch 11/100\n",
            "15/15 [==============================] - 0s 11ms/step - loss: 0.3896 - accuracy: 0.9141\n",
            "Epoch 12/100\n",
            "15/15 [==============================] - 0s 13ms/step - loss: 0.2428 - accuracy: 0.9537\n",
            "Epoch 13/100\n",
            "15/15 [==============================] - 0s 11ms/step - loss: 0.1625 - accuracy: 0.9604\n",
            "Epoch 14/100\n",
            "15/15 [==============================] - 0s 12ms/step - loss: 0.1239 - accuracy: 0.9780\n",
            "Epoch 15/100\n",
            "15/15 [==============================] - 0s 12ms/step - loss: 0.1131 - accuracy: 0.9714\n",
            "Epoch 16/100\n",
            "15/15 [==============================] - 0s 11ms/step - loss: 0.0980 - accuracy: 0.9604\n",
            "Epoch 17/100\n",
            "15/15 [==============================] - 0s 11ms/step - loss: 0.0986 - accuracy: 0.9758\n",
            "Epoch 18/100\n",
            "15/15 [==============================] - 0s 12ms/step - loss: 0.0887 - accuracy: 0.9692\n",
            "Epoch 19/100\n",
            "15/15 [==============================] - 0s 12ms/step - loss: 0.0697 - accuracy: 0.9758\n",
            "Epoch 20/100\n",
            "15/15 [==============================] - 0s 12ms/step - loss: 0.0643 - accuracy: 0.9648\n",
            "Epoch 21/100\n",
            "15/15 [==============================] - 0s 12ms/step - loss: 0.0875 - accuracy: 0.9780\n",
            "Epoch 22/100\n",
            "15/15 [==============================] - 0s 11ms/step - loss: 0.0705 - accuracy: 0.9780\n",
            "Epoch 23/100\n",
            "15/15 [==============================] - 0s 12ms/step - loss: 0.0642 - accuracy: 0.9736\n",
            "Epoch 24/100\n",
            "15/15 [==============================] - 0s 11ms/step - loss: 0.0840 - accuracy: 0.9736\n",
            "Epoch 25/100\n",
            "15/15 [==============================] - 0s 12ms/step - loss: 0.0660 - accuracy: 0.9802\n",
            "Epoch 26/100\n",
            "15/15 [==============================] - 0s 11ms/step - loss: 0.0572 - accuracy: 0.9714\n",
            "Epoch 27/100\n",
            "15/15 [==============================] - 0s 11ms/step - loss: 0.0563 - accuracy: 0.9780\n",
            "Epoch 28/100\n",
            "15/15 [==============================] - 0s 12ms/step - loss: 0.0542 - accuracy: 0.9736\n",
            "Epoch 29/100\n",
            "15/15 [==============================] - 0s 13ms/step - loss: 0.0599 - accuracy: 0.9736\n",
            "Epoch 30/100\n",
            "15/15 [==============================] - 0s 12ms/step - loss: 0.0526 - accuracy: 0.9736\n",
            "Epoch 31/100\n",
            "15/15 [==============================] - 0s 12ms/step - loss: 0.0502 - accuracy: 0.9736\n",
            "Epoch 32/100\n",
            "15/15 [==============================] - 0s 12ms/step - loss: 0.0500 - accuracy: 0.9692\n",
            "Epoch 33/100\n",
            "15/15 [==============================] - 0s 12ms/step - loss: 0.0489 - accuracy: 0.9736\n",
            "Epoch 34/100\n",
            "15/15 [==============================] - 0s 12ms/step - loss: 0.0882 - accuracy: 0.9758\n",
            "Epoch 35/100\n",
            "15/15 [==============================] - 0s 11ms/step - loss: 0.0643 - accuracy: 0.9736\n",
            "Epoch 36/100\n",
            "15/15 [==============================] - 0s 11ms/step - loss: 0.0523 - accuracy: 0.9736\n",
            "Epoch 37/100\n",
            "15/15 [==============================] - 0s 11ms/step - loss: 0.0491 - accuracy: 0.9758\n",
            "Epoch 38/100\n",
            "15/15 [==============================] - 0s 12ms/step - loss: 0.0476 - accuracy: 0.9758\n",
            "Epoch 39/100\n",
            "15/15 [==============================] - 0s 11ms/step - loss: 0.0461 - accuracy: 0.9714\n",
            "Epoch 40/100\n",
            "15/15 [==============================] - 0s 12ms/step - loss: 0.0458 - accuracy: 0.9758\n",
            "Epoch 41/100\n",
            "15/15 [==============================] - 0s 12ms/step - loss: 0.0562 - accuracy: 0.9758\n",
            "Epoch 42/100\n",
            "15/15 [==============================] - 0s 11ms/step - loss: 0.0477 - accuracy: 0.9802\n",
            "Epoch 43/100\n",
            "15/15 [==============================] - 0s 12ms/step - loss: 0.0521 - accuracy: 0.9802\n",
            "Epoch 44/100\n",
            "15/15 [==============================] - 0s 12ms/step - loss: 0.0444 - accuracy: 0.9780\n",
            "Epoch 45/100\n",
            "15/15 [==============================] - 0s 12ms/step - loss: 0.0480 - accuracy: 0.9802\n",
            "Epoch 46/100\n",
            "15/15 [==============================] - 0s 11ms/step - loss: 0.0439 - accuracy: 0.9780\n",
            "Epoch 47/100\n",
            "15/15 [==============================] - 0s 12ms/step - loss: 0.0471 - accuracy: 0.9758\n",
            "Epoch 48/100\n",
            "15/15 [==============================] - 0s 12ms/step - loss: 0.0545 - accuracy: 0.9780\n",
            "Epoch 49/100\n",
            "15/15 [==============================] - 0s 12ms/step - loss: 0.0640 - accuracy: 0.9736\n",
            "Epoch 50/100\n",
            "15/15 [==============================] - 0s 12ms/step - loss: 0.0570 - accuracy: 0.9780\n",
            "Epoch 51/100\n",
            "15/15 [==============================] - 0s 11ms/step - loss: 0.0523 - accuracy: 0.9692\n",
            "Epoch 52/100\n",
            "15/15 [==============================] - 0s 12ms/step - loss: 0.0462 - accuracy: 0.9736\n",
            "Epoch 53/100\n",
            "15/15 [==============================] - 0s 12ms/step - loss: 0.0461 - accuracy: 0.9714\n",
            "Epoch 54/100\n",
            "15/15 [==============================] - 0s 12ms/step - loss: 0.0458 - accuracy: 0.9758\n",
            "Epoch 55/100\n",
            "15/15 [==============================] - 0s 12ms/step - loss: 0.0431 - accuracy: 0.9758\n",
            "Epoch 56/100\n",
            "15/15 [==============================] - 0s 12ms/step - loss: 0.0467 - accuracy: 0.9758\n",
            "Epoch 57/100\n",
            "15/15 [==============================] - 0s 12ms/step - loss: 0.0438 - accuracy: 0.9758\n",
            "Epoch 58/100\n",
            "15/15 [==============================] - 0s 12ms/step - loss: 0.0441 - accuracy: 0.9758\n",
            "Epoch 59/100\n",
            "15/15 [==============================] - 0s 12ms/step - loss: 0.0483 - accuracy: 0.9736\n",
            "Epoch 60/100\n",
            "15/15 [==============================] - 0s 11ms/step - loss: 0.0440 - accuracy: 0.9758\n",
            "Epoch 61/100\n",
            "15/15 [==============================] - 0s 12ms/step - loss: 0.0460 - accuracy: 0.9758\n",
            "Epoch 62/100\n",
            "15/15 [==============================] - 0s 11ms/step - loss: 0.0594 - accuracy: 0.9714\n",
            "Epoch 63/100\n",
            "15/15 [==============================] - 0s 11ms/step - loss: 0.0625 - accuracy: 0.9736\n",
            "Epoch 64/100\n",
            "15/15 [==============================] - 0s 12ms/step - loss: 0.0515 - accuracy: 0.9758\n",
            "Epoch 65/100\n",
            "15/15 [==============================] - 0s 12ms/step - loss: 0.0495 - accuracy: 0.9736\n",
            "Epoch 66/100\n",
            "15/15 [==============================] - 0s 12ms/step - loss: 0.0455 - accuracy: 0.9780\n",
            "Epoch 67/100\n",
            "15/15 [==============================] - 0s 12ms/step - loss: 0.0427 - accuracy: 0.9802\n",
            "Epoch 68/100\n",
            "15/15 [==============================] - 0s 11ms/step - loss: 0.0448 - accuracy: 0.9736\n",
            "Epoch 69/100\n",
            "15/15 [==============================] - 0s 12ms/step - loss: 0.0545 - accuracy: 0.9736\n",
            "Epoch 70/100\n",
            "15/15 [==============================] - 0s 11ms/step - loss: 0.0481 - accuracy: 0.9714\n",
            "Epoch 71/100\n",
            "15/15 [==============================] - 0s 11ms/step - loss: 0.0568 - accuracy: 0.9758\n",
            "Epoch 72/100\n",
            "15/15 [==============================] - 0s 11ms/step - loss: 0.0547 - accuracy: 0.9758\n",
            "Epoch 73/100\n",
            "15/15 [==============================] - 0s 11ms/step - loss: 0.0474 - accuracy: 0.9780\n",
            "Epoch 74/100\n",
            "15/15 [==============================] - 0s 12ms/step - loss: 0.0409 - accuracy: 0.9802\n",
            "Epoch 75/100\n",
            "15/15 [==============================] - 0s 11ms/step - loss: 0.0411 - accuracy: 0.9758\n",
            "Epoch 76/100\n",
            "15/15 [==============================] - 0s 11ms/step - loss: 0.0412 - accuracy: 0.9780\n",
            "Epoch 77/100\n",
            "15/15 [==============================] - 0s 12ms/step - loss: 0.0460 - accuracy: 0.9714\n",
            "Epoch 78/100\n",
            "15/15 [==============================] - 0s 11ms/step - loss: 0.0472 - accuracy: 0.9758\n",
            "Epoch 79/100\n",
            "15/15 [==============================] - 0s 12ms/step - loss: 0.0565 - accuracy: 0.9780\n",
            "Epoch 80/100\n",
            "15/15 [==============================] - 0s 12ms/step - loss: 0.0609 - accuracy: 0.9758\n",
            "Epoch 81/100\n",
            "15/15 [==============================] - 0s 12ms/step - loss: 0.0564 - accuracy: 0.9736\n",
            "Epoch 82/100\n",
            "15/15 [==============================] - 0s 11ms/step - loss: 0.0432 - accuracy: 0.9758\n",
            "Epoch 83/100\n",
            "15/15 [==============================] - 0s 12ms/step - loss: 0.0423 - accuracy: 0.9780\n",
            "Epoch 84/100\n",
            "15/15 [==============================] - 0s 11ms/step - loss: 0.0437 - accuracy: 0.9714\n",
            "Epoch 85/100\n",
            "15/15 [==============================] - 0s 11ms/step - loss: 0.0428 - accuracy: 0.9692\n",
            "Epoch 86/100\n",
            "15/15 [==============================] - 0s 12ms/step - loss: 0.0438 - accuracy: 0.9802\n",
            "Epoch 87/100\n",
            "15/15 [==============================] - 0s 12ms/step - loss: 0.0436 - accuracy: 0.9780\n",
            "Epoch 88/100\n",
            "15/15 [==============================] - 0s 11ms/step - loss: 0.0425 - accuracy: 0.9670\n",
            "Epoch 89/100\n",
            "15/15 [==============================] - 0s 11ms/step - loss: 0.0420 - accuracy: 0.9758\n",
            "Epoch 90/100\n",
            "15/15 [==============================] - 0s 11ms/step - loss: 0.0421 - accuracy: 0.9714\n",
            "Epoch 91/100\n",
            "15/15 [==============================] - 0s 12ms/step - loss: 0.0435 - accuracy: 0.9758\n",
            "Epoch 92/100\n",
            "15/15 [==============================] - 0s 11ms/step - loss: 0.0468 - accuracy: 0.9736\n",
            "Epoch 93/100\n",
            "15/15 [==============================] - 0s 11ms/step - loss: 0.0422 - accuracy: 0.9758\n",
            "Epoch 94/100\n",
            "15/15 [==============================] - 0s 11ms/step - loss: 0.0439 - accuracy: 0.9802\n",
            "Epoch 95/100\n",
            "15/15 [==============================] - 0s 11ms/step - loss: 0.0386 - accuracy: 0.9802\n",
            "Epoch 96/100\n",
            "15/15 [==============================] - 0s 12ms/step - loss: 0.0585 - accuracy: 0.9736\n",
            "Epoch 97/100\n",
            "15/15 [==============================] - 0s 12ms/step - loss: 0.0590 - accuracy: 0.9758\n",
            "Epoch 98/100\n",
            "15/15 [==============================] - 0s 11ms/step - loss: 0.0443 - accuracy: 0.9780\n",
            "Epoch 99/100\n",
            "15/15 [==============================] - 0s 12ms/step - loss: 0.0420 - accuracy: 0.9802\n",
            "Epoch 100/100\n",
            "15/15 [==============================] - 0s 12ms/step - loss: 0.0419 - accuracy: 0.9758\n",
            "<tensorflow.python.keras.engine.sequential.Sequential object at 0x7f57dd118f60>\n"
          ],
          "name": "stdout"
        }
      ]
    },
    {
      "cell_type": "code",
      "metadata": {
        "id": "B9sNQAkeE5L7"
      },
      "source": [
        "import matplotlib.pyplot as plt\n",
        "\n",
        "\n",
        "def plot_graphs(history, string):\n",
        "  plt.plot(history.history[string])\n",
        "  plt.xlabel(\"Epochs\")\n",
        "  plt.ylabel(string)\n",
        "  plt.show()"
      ],
      "execution_count": 42,
      "outputs": []
    },
    {
      "cell_type": "code",
      "metadata": {
        "colab": {
          "base_uri": "https://localhost:8080/",
          "height": 279
        },
        "id": "nbEnPx1OE7EC",
        "outputId": "ea3df3f1-37f6-4683-be8d-c18ac7a9b943"
      },
      "source": [
        "plot_graphs(history, 'accuracy')"
      ],
      "execution_count": 43,
      "outputs": [
        {
          "output_type": "display_data",
          "data": {
            "image/png": "[encoded data removed]",
            "text/plain": [
              "<Figure size 432x288 with 1 Axes>"
            ]
          },
          "metadata": {
            "tags": [],
            "needs_background": "light"
          }
        }
      ]
    },
    {
      "cell_type": "code",
      "metadata": {
        "colab": {
          "base_uri": "https://localhost:8080/"
        },
        "id": "dVxtEZIJFJDp",
        "outputId": "9427d83d-61d7-47c1-ab71-32cfb79bce13"
      },
      "source": [
        "seed_text = \"Nemocnice a lekáři\"\n",
        "next_words = 100\n",
        "  \n",
        "for _ in range(next_words):\n",
        "\ttoken_list = tokenizer.texts_to_sequences([seed_text])[0]\n",
        "\ttoken_list = pad_sequences([token_list], maxlen=max_sequence_len-1, padding='pre')\n",
        "\tpredicted = model.predict_classes(token_list, verbose=0)\n",
        "\toutput_word = \"\"\n",
        "\tfor word, index in tokenizer.word_index.items():\n",
        "\t\tif index == predicted:\n",
        "\t\t\toutput_word = word\n",
        "\t\t\tbreak\n",
        "\tseed_text += \" \" + output_word\n",
        "print(seed_text)"
      ],
      "execution_count": 45,
      "outputs": [
        {
          "output_type": "stream",
          "text": [
            "Nemocnice a lekáři to bylo 353 předevčírem stejný počet počet nárůst hospitalizovaných pacientů v nemocnicích nemocnicích de facto tuhle možnost vyloučil protože jsem si neuměl představit že se to může stát stát oborů které de facto od zítra nebudou moci podnikat nebudou moci podnikat se to bylo to hlavní kritérium proto jsme se tak rozhodli tak je potřeba vědět že to jsou lůžka pro všechny nejenom pro covidové pacienty pacienty pacienty pacienty pacienty pacienty podnikat podnikat podnikat podnikat podnikat podnikat může zítra nebudou moci podnikat podnikat podnikat podnikat to může stát nárůsty v evropě a to je ten hlavní problém jsme udělali to\n"
          ],
          "name": "stdout"
        }
      ]
    }
  ]
}