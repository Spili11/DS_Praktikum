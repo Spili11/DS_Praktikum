{
  "nbformat": 4,
  "nbformat_minor": 0,
  "metadata": {
    "colab": {
      "name": "assignment_03.ipynb",
      "provenance": [],
      "collapsed_sections": [],
      "toc_visible": true,
      "mount_file_id": "1cOMFCnPUD4imsV1gOUkN88s9l5kxCs9Y",
      "authorship_tag": "ABX9TyMzAgjHJcp8XJxPIGpotGp4",
      "include_colab_link": true
    },
    "kernelspec": {
      "name": "python3",
      "display_name": "Python 3"
    },
    "accelerator": "GPU"
  },
  "cells": [
    {
      "cell_type": "markdown",
      "metadata": {
        "id": "view-in-github",
        "colab_type": "text"
      },
      "source": [
        "<a href=\"https://colab.research.google.com/github/Spili11/DS_Praktikum/blob/main/assignment_03.ipynb\" target=\"_parent\"><img src=\"https://colab.research.google.com/assets/colab-badge.svg\" alt=\"Open In Colab\"/></a>"
      ]
    },
    {
      "cell_type": "code",
      "metadata": {
        "id": "R-RkUzNhzCre"
      },
      "source": [
        "import matplotlib.pyplot as plt\n",
        "import pandas as pd\n",
        "import numpy as np\n",
        "import os\n",
        "import tensorflow as tf\n",
        "from tensorflow.keras.preprocessing.image import ImageDataGenerator, load_img\n",
        "from tensorflow.keras.utils import to_categorical\n",
        "from google.colab import drive\n",
        "\n",
        "from tensorflow.keras.preprocessing import image_dataset_from_directory\n"
      ],
      "execution_count": 7,
      "outputs": []
    },
    {
      "cell_type": "code",
      "metadata": {
        "id": "SkkTn_F9zJ4p",
        "outputId": "d08ddba1-df20-467f-8424-62eae6a91d1d",
        "colab": {
          "base_uri": "https://localhost:8080/",
          "height": 163
        }
      },
      "source": [
        "drive.mount('/content/drive')"
      ],
      "execution_count": 2,
      "outputs": [
        {
          "output_type": "error",
          "ename": "NameError",
          "evalue": "ignored",
          "traceback": [
            "\u001b[0;31m---------------------------------------------------------------------------\u001b[0m",
            "\u001b[0;31mNameError\u001b[0m                                 Traceback (most recent call last)",
            "\u001b[0;32m<ipython-input-2-3b8a479202a4>\u001b[0m in \u001b[0;36m<module>\u001b[0;34m()\u001b[0m\n\u001b[0;32m----> 1\u001b[0;31m \u001b[0mdrive\u001b[0m\u001b[0;34m.\u001b[0m\u001b[0mmount\u001b[0m\u001b[0;34m(\u001b[0m\u001b[0;34m'/content/drive'\u001b[0m\u001b[0;34m)\u001b[0m\u001b[0;34m\u001b[0m\u001b[0;34m\u001b[0m\u001b[0m\n\u001b[0m",
            "\u001b[0;31mNameError\u001b[0m: name 'drive' is not defined"
          ]
        }
      ]
    },
    {
      "cell_type": "code",
      "metadata": {
        "id": "8RQM9m385E1n"
      },
      "source": [
        "import os\n",
        "import shutil\n",
        "import random"
      ],
      "execution_count": 26,
      "outputs": []
    },
    {
      "cell_type": "code",
      "metadata": {
        "id": "y4Cg1k-2z4Uo"
      },
      "source": [
        "mypath = \"/content/drive/My Drive/DS_Praktikum/assignment05_data/\"\n",
        "a = ['train', 'validation']\n",
        "b = ['batman', 'superman', 'spiderman']\n",
        "for x, y in [(x,y) for x in a for y in b]:\n",
        "  if not os.path.isdir(mypath + x + \"/\"+ y):\n",
        "    os.makedirs(mypath + x + \"/\" + y)"
      ],
      "execution_count": 22,
      "outputs": []
    },
    {
      "cell_type": "code",
      "metadata": {
        "id": "YHiK-Zvj5RLG"
      },
      "source": [
        "validation_ratio = 0.2\n",
        "\n",
        "batman_raw = os.listdir(\"/content/drive/My Drive/DS_Praktikum/assignment05_data/batman\")\n",
        "batman_validation = random.sample(batman_raw, k = int((len(batman_raw) * validation_ratio) // 1))\n",
        "batman_train = list(set(batman_raw) - set(batman_validation))\n",
        "\n",
        "superman_raw = os.listdir(\"/content/drive/My Drive/DS_Praktikum/assignment05_data/superman\")\n",
        "superman_validation = random.sample(superman_raw, k = int((len(superman_raw) * validation_ratio) // 1))\n",
        "superman_train = list(set(superman_raw) - set(superman_validation))\n",
        "\n",
        "spiderman_raw = os.listdir(\"/content/drive/My Drive/DS_Praktikum/assignment05_data/spiderman\")\n",
        "spiderman_validation = random.sample(spiderman_raw, k = int((len(spiderman_raw) * validation_ratio) // 1))\n",
        "spiderman_train = list(set(spiderman_raw) - set(spiderman_validation))\n"
      ],
      "execution_count": 132,
      "outputs": []
    },
    {
      "cell_type": "code",
      "metadata": {
        "id": "xan_KHF06KF2",
        "outputId": "507ee230-9e33-492c-f604-ee21fb61c86b",
        "colab": {
          "base_uri": "https://localhost:8080/"
        }
      },
      "source": [
        "print(len(batman_raw), len(batman_validation), len(batman_train))\n",
        "print(len(spiderman_raw), len(spiderman_validation), len(spiderman_train))\n",
        "print(len(superman_raw), len(superman_validation), len(superman_train))"
      ],
      "execution_count": 133,
      "outputs": [
        {
          "output_type": "stream",
          "text": [
            "292 58 234\n",
            "290 58 232\n",
            "292 58 234\n"
          ],
          "name": "stdout"
        }
      ]
    },
    {
      "cell_type": "code",
      "metadata": {
        "id": "tgvYUt7l39GQ"
      },
      "source": [
        "for x in batman_train:\n",
        "  original = \"/content/drive/My Drive/DS_Praktikum/assignment05_data/batman/\" + x\n",
        "  target = \"/content/drive/My Drive/DS_Praktikum/assignment05_data/train/batman/\" + x\n",
        "  \n",
        "  shutil.copyfile(original, target)"
      ],
      "execution_count": 137,
      "outputs": []
    },
    {
      "cell_type": "code",
      "metadata": {
        "id": "pYrAI4qAGGFk"
      },
      "source": [
        "for x in batman_validation:\n",
        "  original = \"/content/drive/My Drive/DS_Praktikum/assignment05_data/batman/\" + x\n",
        "  target = \"/content/drive/My Drive/DS_Praktikum/assignment05_data/validation/batman/\" + x\n",
        "  \n",
        "  shutil.copyfile(original, target)"
      ],
      "execution_count": 138,
      "outputs": []
    },
    {
      "cell_type": "code",
      "metadata": {
        "id": "Jz8Z_QJmGNDJ"
      },
      "source": [
        "for x in superman_train:\n",
        "  original = \"/content/drive/My Drive/DS_Praktikum/assignment05_data/superman/\" + x\n",
        "  target = \"/content/drive/My Drive/DS_Praktikum/assignment05_data/train/superman/\" + x\n",
        "  \n",
        "  shutil.copyfile(original, target)"
      ],
      "execution_count": 139,
      "outputs": []
    },
    {
      "cell_type": "code",
      "metadata": {
        "id": "SWGSz8erGU3b"
      },
      "source": [
        "for x in superman_validation:\n",
        "  original = \"/content/drive/My Drive/DS_Praktikum/assignment05_data/superman/\" + x\n",
        "  target = \"/content/drive/My Drive/DS_Praktikum/assignment05_data/validation/superman/\" + x\n",
        "  \n",
        "  shutil.copyfile(original, target)"
      ],
      "execution_count": 140,
      "outputs": []
    },
    {
      "cell_type": "code",
      "metadata": {
        "id": "enA-XW42GqpK"
      },
      "source": [
        "for x in spiderman_train:\n",
        "  original = \"/content/drive/My Drive/DS_Praktikum/assignment05_data/spiderman/\" + x\n",
        "  target = \"/content/drive/My Drive/DS_Praktikum/assignment05_data/train/spiderman/\" + x\n",
        "  \n",
        "  shutil.copyfile(original, target)"
      ],
      "execution_count": 141,
      "outputs": []
    },
    {
      "cell_type": "code",
      "metadata": {
        "id": "x8tNIUgDGwrh"
      },
      "source": [
        "for x in spiderman_validation:\n",
        "  original = \"/content/drive/My Drive/DS_Praktikum/assignment05_data/spiderman/\" + x\n",
        "  target = \"/content/drive/My Drive/DS_Praktikum/assignment05_data/validation/spiderman/\" + x\n",
        "  \n",
        "  shutil.copyfile(original, target)"
      ],
      "execution_count": 142,
      "outputs": []
    }
  ]
}