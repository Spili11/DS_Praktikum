{
  "nbformat": 4,
  "nbformat_minor": 0,
  "metadata": {
    "colab": {
      "name": "assignment_03",
      "provenance": [],
      "collapsed_sections": [],
      "include_colab_link": true
    },
    "kernelspec": {
      "name": "python3",
      "display_name": "Python 3"
    },
    "accelerator": "GPU"
  },
  "cells": [
    {
      "cell_type": "markdown",
      "metadata": {
        "id": "view-in-github",
        "colab_type": "text"
      },
      "source": [
        "<a href=\"https://colab.research.google.com/github/Spili11/DS_Praktikum/blob/main/assignment_03.ipynb\" target=\"_parent\"><img src=\"https://colab.research.google.com/assets/colab-badge.svg\" alt=\"Open In Colab\"/></a>"
      ]
    },
    {
      "cell_type": "markdown",
      "metadata": {
        "id": "3TBY0Ngual09"
      },
      "source": [
        "# Loading packages"
      ]
    },
    {
      "cell_type": "code",
      "metadata": {
        "id": "pGFfqplwaoHv",
        "outputId": "0bc13e20-2ea2-415b-f6cc-e70f8d407caf",
        "colab": {
          "base_uri": "https://localhost:8080/",
          "height": 34
        }
      },
      "source": [
        "import matplotlib.pyplot as plt\n",
        "import numpy as np\n",
        "import pandas as pd\n",
        "\n",
        "import tensorflow as tf\n",
        "from tensorflow import keras\n",
        "from tensorflow.keras import layers\n",
        "\n",
        "print(tf.__version__)"
      ],
      "execution_count": 1,
      "outputs": [
        {
          "output_type": "stream",
          "text": [
            "2.3.0\n"
          ],
          "name": "stdout"
        }
      ]
    },
    {
      "cell_type": "markdown",
      "metadata": {
        "id": "3EAOvLxrawKy"
      },
      "source": [
        "# Loading input data"
      ]
    },
    {
      "cell_type": "code",
      "metadata": {
        "id": "m5tnFr6VawaE",
        "outputId": "92c4492d-6e7b-4ac0-8101-d9ae0f519926",
        "colab": {
          "base_uri": "https://localhost:8080/",
          "height": 168
        }
      },
      "source": [
        "# load Fashion MNIST from Keras repo\n",
        "fashion_mnist = tf.keras.datasets.fashion_mnist\n",
        "(x_train, y_train), (x_test, y_test) = fashion_mnist.load_data()\n",
        "\n",
        "# add extra dimension (to have one channel)\n",
        "x_train = x_train[:,:,:,None]\n",
        "x_test = x_test[:,:,:,None]\n",
        "\n",
        "x_train.shape, y_train.shape, x_test.shape, y_test.shape"
      ],
      "execution_count": 2,
      "outputs": [
        {
          "output_type": "stream",
          "text": [
            "Downloading data from https://storage.googleapis.com/tensorflow/tf-keras-datasets/train-labels-idx1-ubyte.gz\n",
            "32768/29515 [=================================] - 0s 0us/step\n",
            "Downloading data from https://storage.googleapis.com/tensorflow/tf-keras-datasets/train-images-idx3-ubyte.gz\n",
            "26427392/26421880 [==============================] - 0s 0us/step\n",
            "Downloading data from https://storage.googleapis.com/tensorflow/tf-keras-datasets/t10k-labels-idx1-ubyte.gz\n",
            "8192/5148 [===============================================] - 0s 0us/step\n",
            "Downloading data from https://storage.googleapis.com/tensorflow/tf-keras-datasets/t10k-images-idx3-ubyte.gz\n",
            "4423680/4422102 [==============================] - 0s 0us/step\n"
          ],
          "name": "stdout"
        },
        {
          "output_type": "execute_result",
          "data": {
            "text/plain": [
              "((60000, 28, 28, 1), (60000,), (10000, 28, 28, 1), (10000,))"
            ]
          },
          "metadata": {
            "tags": []
          },
          "execution_count": 2
        }
      ]
    },
    {
      "cell_type": "code",
      "metadata": {
        "id": "9JorPIvSa4f7",
        "outputId": "40573b10-f055-4f6e-a567-ce90d3aa808b",
        "colab": {
          "base_uri": "https://localhost:8080/",
          "height": 343
        }
      },
      "source": [
        "clothes_labels = ['T-shirt/top', 'Trouser', 'Pullover', 'Dress', 'Coat',\n",
        "                  'Sandal', 'Shirt', 'Sneaker', 'Bag', 'Ankle boot']\n",
        "\n",
        "# make table of our labels just to make visual control of results easier\n",
        "pd.DataFrame(clothes_labels, index=[1,2,3,4,5,6,7,8,9,10])"
      ],
      "execution_count": 3,
      "outputs": [
        {
          "output_type": "execute_result",
          "data": {
            "text/html": [
              "<div>\n",
              "<style scoped>\n",
              "    .dataframe tbody tr th:only-of-type {\n",
              "        vertical-align: middle;\n",
              "    }\n",
              "\n",
              "    .dataframe tbody tr th {\n",
              "        vertical-align: top;\n",
              "    }\n",
              "\n",
              "    .dataframe thead th {\n",
              "        text-align: right;\n",
              "    }\n",
              "</style>\n",
              "<table border=\"1\" class=\"dataframe\">\n",
              "  <thead>\n",
              "    <tr style=\"text-align: right;\">\n",
              "      <th></th>\n",
              "      <th>0</th>\n",
              "    </tr>\n",
              "  </thead>\n",
              "  <tbody>\n",
              "    <tr>\n",
              "      <th>1</th>\n",
              "      <td>T-shirt/top</td>\n",
              "    </tr>\n",
              "    <tr>\n",
              "      <th>2</th>\n",
              "      <td>Trouser</td>\n",
              "    </tr>\n",
              "    <tr>\n",
              "      <th>3</th>\n",
              "      <td>Pullover</td>\n",
              "    </tr>\n",
              "    <tr>\n",
              "      <th>4</th>\n",
              "      <td>Dress</td>\n",
              "    </tr>\n",
              "    <tr>\n",
              "      <th>5</th>\n",
              "      <td>Coat</td>\n",
              "    </tr>\n",
              "    <tr>\n",
              "      <th>6</th>\n",
              "      <td>Sandal</td>\n",
              "    </tr>\n",
              "    <tr>\n",
              "      <th>7</th>\n",
              "      <td>Shirt</td>\n",
              "    </tr>\n",
              "    <tr>\n",
              "      <th>8</th>\n",
              "      <td>Sneaker</td>\n",
              "    </tr>\n",
              "    <tr>\n",
              "      <th>9</th>\n",
              "      <td>Bag</td>\n",
              "    </tr>\n",
              "    <tr>\n",
              "      <th>10</th>\n",
              "      <td>Ankle boot</td>\n",
              "    </tr>\n",
              "  </tbody>\n",
              "</table>\n",
              "</div>"
            ],
            "text/plain": [
              "              0\n",
              "1   T-shirt/top\n",
              "2       Trouser\n",
              "3      Pullover\n",
              "4         Dress\n",
              "5          Coat\n",
              "6        Sandal\n",
              "7         Shirt\n",
              "8       Sneaker\n",
              "9           Bag\n",
              "10   Ankle boot"
            ]
          },
          "metadata": {
            "tags": []
          },
          "execution_count": 3
        }
      ]
    },
    {
      "cell_type": "markdown",
      "metadata": {
        "id": "SqXBWPM3cqr-"
      },
      "source": [
        "# Normalize data"
      ]
    },
    {
      "cell_type": "code",
      "metadata": {
        "id": "HWb5ifSCcr6v",
        "outputId": "dbf99596-93b0-4e75-cd9e-5974bcbb3c6d",
        "colab": {
          "base_uri": "https://localhost:8080/",
          "height": 34
        }
      },
      "source": [
        "# Normalize values from [0, 255] to [0, 1] interval\n",
        "x_train = x_train / 255\n",
        "x_test = x_test / 255\n",
        "\n",
        "y_train = keras.utils.to_categorical(y_train, 10)\n",
        "y_test = keras.utils.to_categorical(y_test, 10)\n",
        "\n",
        "y_train.shape"
      ],
      "execution_count": 4,
      "outputs": [
        {
          "output_type": "execute_result",
          "data": {
            "text/plain": [
              "(60000, 10)"
            ]
          },
          "metadata": {
            "tags": []
          },
          "execution_count": 4
        }
      ]
    },
    {
      "cell_type": "markdown",
      "metadata": {
        "id": "NX0Gf4KWc438"
      },
      "source": [
        "# CNN model"
      ]
    },
    {
      "cell_type": "code",
      "metadata": {
        "id": "xWW7it8Uc7ze",
        "outputId": "127c751b-d4f7-42d0-ea1e-42501814206a",
        "colab": {
          "base_uri": "https://localhost:8080/",
          "height": 386
        }
      },
      "source": [
        "cnn_model = keras.Sequential([\n",
        "      layers.Conv2D(input_shape=(28,28,1), filters = 32, kernel_size = (3,3), activation = 'relu'),\n",
        "      layers.Dropout(0.5),\n",
        "      layers.Conv2D(filters = 64, kernel_size = (3,3), activation = 'relu'),\n",
        "      layers.Conv2D(filters = 32, kernel_size = (3,3), activation = 'relu'),\n",
        "      layers.Flatten(),\n",
        "      layers.Dense(128, activation='relu'),\n",
        "      layers.Dense(10, activation='softmax')\n",
        "])\n",
        "\n",
        "cnn_model.compile(loss='categorical_crossentropy', \n",
        "                  optimizer=tf.keras.optimizers.Adam(),\n",
        "                  metrics=['accuracy'])\n",
        "\n",
        "cnn_model.summary()"
      ],
      "execution_count": 5,
      "outputs": [
        {
          "output_type": "stream",
          "text": [
            "Model: \"sequential\"\n",
            "_________________________________________________________________\n",
            "Layer (type)                 Output Shape              Param #   \n",
            "=================================================================\n",
            "conv2d (Conv2D)              (None, 26, 26, 32)        320       \n",
            "_________________________________________________________________\n",
            "dropout (Dropout)            (None, 26, 26, 32)        0         \n",
            "_________________________________________________________________\n",
            "conv2d_1 (Conv2D)            (None, 24, 24, 64)        18496     \n",
            "_________________________________________________________________\n",
            "conv2d_2 (Conv2D)            (None, 22, 22, 32)        18464     \n",
            "_________________________________________________________________\n",
            "flatten (Flatten)            (None, 15488)             0         \n",
            "_________________________________________________________________\n",
            "dense (Dense)                (None, 128)               1982592   \n",
            "_________________________________________________________________\n",
            "dense_1 (Dense)              (None, 10)                1290      \n",
            "=================================================================\n",
            "Total params: 2,021,162\n",
            "Trainable params: 2,021,162\n",
            "Non-trainable params: 0\n",
            "_________________________________________________________________\n"
          ],
          "name": "stdout"
        }
      ]
    },
    {
      "cell_type": "code",
      "metadata": {
        "id": "MX75EyQndKpb",
        "outputId": "e6e14c9e-bf9d-4b9c-ab21-350b66ebe99c",
        "colab": {
          "base_uri": "https://localhost:8080/",
          "height": 353
        }
      },
      "source": [
        "history = cnn_model.fit(\n",
        "  x_train, y_train,\n",
        "  batch_size = 126,\n",
        "  epochs = 10,\n",
        "  validation_data = (x_test, y_test),\n",
        "  verbose = 1\n",
        ")"
      ],
      "execution_count": 6,
      "outputs": [
        {
          "output_type": "stream",
          "text": [
            "Epoch 1/10\n",
            "477/477 [==============================] - 6s 12ms/step - loss: 0.4641 - accuracy: 0.8339 - val_loss: 0.3284 - val_accuracy: 0.8856\n",
            "Epoch 2/10\n",
            "477/477 [==============================] - 5s 11ms/step - loss: 0.2785 - accuracy: 0.8974 - val_loss: 0.2629 - val_accuracy: 0.9048\n",
            "Epoch 3/10\n",
            "477/477 [==============================] - 5s 11ms/step - loss: 0.2254 - accuracy: 0.9164 - val_loss: 0.2543 - val_accuracy: 0.9083\n",
            "Epoch 4/10\n",
            "477/477 [==============================] - 5s 11ms/step - loss: 0.1865 - accuracy: 0.9318 - val_loss: 0.2507 - val_accuracy: 0.9119\n",
            "Epoch 5/10\n",
            "477/477 [==============================] - 5s 11ms/step - loss: 0.1572 - accuracy: 0.9415 - val_loss: 0.2417 - val_accuracy: 0.9153\n",
            "Epoch 6/10\n",
            "477/477 [==============================] - 5s 11ms/step - loss: 0.1289 - accuracy: 0.9515 - val_loss: 0.2451 - val_accuracy: 0.9211\n",
            "Epoch 7/10\n",
            "477/477 [==============================] - 5s 11ms/step - loss: 0.1002 - accuracy: 0.9625 - val_loss: 0.2770 - val_accuracy: 0.9237\n",
            "Epoch 8/10\n",
            "477/477 [==============================] - 5s 11ms/step - loss: 0.0829 - accuracy: 0.9696 - val_loss: 0.2986 - val_accuracy: 0.9165\n",
            "Epoch 9/10\n",
            "477/477 [==============================] - 5s 11ms/step - loss: 0.0663 - accuracy: 0.9753 - val_loss: 0.3399 - val_accuracy: 0.9195\n",
            "Epoch 10/10\n",
            "477/477 [==============================] - 5s 11ms/step - loss: 0.0520 - accuracy: 0.9806 - val_loss: 0.3638 - val_accuracy: 0.9184\n"
          ],
          "name": "stdout"
        }
      ]
    },
    {
      "cell_type": "code",
      "metadata": {
        "id": "SzbjZO_9dN0q",
        "outputId": "8afec76b-c510-402e-c03c-162cd5ed0b01",
        "colab": {
          "base_uri": "https://localhost:8080/",
          "height": 187
        }
      },
      "source": [
        "history.history['accuracy']"
      ],
      "execution_count": null,
      "outputs": [
        {
          "output_type": "execute_result",
          "data": {
            "text/plain": [
              "[0.8337500095367432,\n",
              " 0.8977833390235901,\n",
              " 0.91798335313797,\n",
              " 0.9325000047683716,\n",
              " 0.9458666443824768,\n",
              " 0.956933319568634,\n",
              " 0.9672999978065491,\n",
              " 0.9747833609580994,\n",
              " 0.979366660118103,\n",
              " 0.9827499985694885]"
            ]
          },
          "metadata": {
            "tags": []
          },
          "execution_count": 10
        }
      ]
    },
    {
      "cell_type": "code",
      "metadata": {
        "id": "gJqUcK3AdPIX",
        "outputId": "ec8d68b6-1745-4d55-967f-258fd2302655",
        "colab": {
          "base_uri": "https://localhost:8080/",
          "height": 283
        }
      },
      "source": [
        "def plot_loss(history, ylim=(0,1)):\n",
        "  plt.plot(history.history['accuracy'], label='accuracy')\n",
        "  plt.plot(history.history['val_accuracy'], label='val_accuracy')\n",
        "  plt.ylim(ylim)\n",
        "  plt.xlabel('Epoch')\n",
        "  plt.ylabel('Accuracy')\n",
        "  plt.legend()\n",
        "  plt.grid(True)\n",
        "  \n",
        "plot_loss(history, ylim=(0.7, 1))"
      ],
      "execution_count": 10,
      "outputs": [
        {
          "output_type": "display_data",
          "data": {
            "image/png": "[encoded data removed]",
            "text/plain": [
              "<Figure size 432x288 with 1 Axes>"
            ]
          },
          "metadata": {
            "tags": [],
            "needs_background": "light"
          }
        }
      ]
    },
    {
      "cell_type": "code",
      "metadata": {
        "id": "YySVtQL4IWFu"
      },
      "source": [
        "# make predictions on test data\n",
        "test_predictions = cnn_model.predict(x_test,batch_size=126)\n",
        "# create multidimensional array for predictions\n",
        "y_pred = keras.utils.to_categorical(np.argmax(test_predictions, axis=1), 10)"
      ],
      "execution_count": 7,
      "outputs": []
    },
    {
      "cell_type": "code",
      "metadata": {
        "id": "ZMp_KVekK2UL"
      },
      "source": [
        "difference = test_predictions - y_test\n",
        "false_idx = pd.DataFrame(np.min(difference, axis = 1), index=[x for x in range(len(difference))]).sort_values(by = 0)[:16].index"
      ],
      "execution_count": 8,
      "outputs": []
    },
    {
      "cell_type": "code",
      "metadata": {
        "id": "7J-xczerV3c0",
        "outputId": "57b41aab-610b-471c-e93c-9b69c0b0451d",
        "colab": {
          "base_uri": "https://localhost:8080/",
          "height": 536
        }
      },
      "source": [
        "# get original train/test data for plotting images\n",
        "(xplt_train, yplt_train), (xplt_test, yplt_test) = fashion_mnist.load_data()\n",
        "\n",
        "def plot_image(x, title = \"\"):\n",
        "  plt.xticks([])\n",
        "  plt.yticks([])\n",
        "  plt.grid(False)\n",
        "  plt.imshow(x, cmap=plt.cm.binary)\n",
        "  plt.xlabel(title)\n",
        "\n",
        "plt.figure(figsize=(8,9))\n",
        "for i in range(16):\n",
        "  plt.subplot(4,4, i + 1)\n",
        "  plot_image(xplt_test[false_idx[i]].squeeze(), \n",
        "             \"LABEL:\"+clothes_labels[yplt_test[false_idx[i]]]+\"\\n\"+\"PRED:\"+clothes_labels[np.argmax(y_pred[false_idx],axis=1)[i]])"
      ],
      "execution_count": 17,
      "outputs": [
        {
          "output_type": "display_data",
          "data": {
            "image/png": "[encoded data removed]",
            "text/plain": [
              "<Figure size 576x648 with 16 Axes>"
            ]
          },
          "metadata": {
            "tags": []
          }
        }
      ]
    },
    {
      "cell_type": "code",
      "metadata": {
        "id": "-vz5WbgRKOSe",
        "outputId": "604349b9-27e3-4b05-c2db-5ef00911276c",
        "colab": {
          "base_uri": "https://localhost:8080/",
          "height": 37
        }
      },
      "source": [
        "# NOT USED\n",
        "# values_false_pred = list(map(max, test_predictions[false_idx]))"
      ],
      "execution_count": null,
      "outputs": [
        {
          "output_type": "execute_result",
          "data": {
            "application/vnd.google.colaboratory.intrinsic+json": {
              "type": "string"
            },
            "text/plain": [
              "'Sandal'"
            ]
          },
          "metadata": {
            "tags": []
          },
          "execution_count": 137
        }
      ]
    }
  ]
}